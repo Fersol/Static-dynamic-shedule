{
 "cells": [
  {
   "cell_type": "code",
   "execution_count": 163,
   "metadata": {},
   "outputs": [],
   "source": [
    "import pandas as pd\n",
    "import numpy as np\n",
    "import pickle\n",
    "import os\n",
    "import matplotlib.pyplot as plt"
   ]
  },
  {
   "cell_type": "code",
   "execution_count": 151,
   "metadata": {},
   "outputs": [],
   "source": [
    "params={\n",
    "    'n_fast_simple':2,\n",
    "    'n_slow_simple':4,\n",
    "    'n_fast_advanced':2,\n",
    "    'n_slow_advanced':1,\n",
    "    'n_partition_simple':7,\n",
    "    'n_partition_advanced':4,\n",
    "    'range_tasks_partition_simple':[5,8],\n",
    "    'range_tasks_partition_advanced':[4,6],\n",
    "    \n",
    "    'load_partition_simple':0.6,\n",
    "    'load_partition_advanced':0.3,\n",
    "    'fast_performance':100,\n",
    "    'slow_performance':50,\n",
    "    'simple_operations':\"f1\",\n",
    "    'advanced_operations':\"f1;f2\",\n",
    "    'tasks_periods':[100, 500, 1000, 1500, 3000],\n",
    "}"
   ]
  },
  {
   "cell_type": "code",
   "execution_count": 152,
   "metadata": {},
   "outputs": [],
   "source": [
    "def create_system(config, system_file=None):\n",
    "    df_system = pd.DataFrame(columns=['Performance','Functionality'])\n",
    "    \n",
    "    #добавить простые быстрые\n",
    "    np_tmp = pd.DataFrame(columns=['Performance','Functionality'])\n",
    "    np_tmp['Performance'] = [config['fast_performance']] * config['n_fast_simple']\n",
    "    np_tmp['Functionality'] = [config['simple_operations']] * config['n_fast_simple']\n",
    "    df_system = df_system.append(np_tmp, ignore_index=True)\n",
    "    #добавить простые медленные\n",
    "    np_tmp = pd.DataFrame(columns=['Performance','Functionality'])\n",
    "    np_tmp['Performance'] = [config['slow_performance']] * config['n_slow_simple']\n",
    "    np_tmp['Functionality'] = [config['simple_operations']] * config['n_slow_simple']\n",
    "    df_system = df_system.append(np_tmp, ignore_index=True)\n",
    "    #добавить сложные быстрые\n",
    "    np_tmp = pd.DataFrame(columns=['Performance','Functionality'])\n",
    "    np_tmp['Performance'] = [config['fast_performance']] * config['n_fast_advanced']\n",
    "    np_tmp['Functionality'] = [config['advanced_operations']] * config['n_fast_advanced']\n",
    "    df_system = df_system.append(np_tmp, ignore_index=True)\n",
    "    #добавить сложные медленные\n",
    "    np_tmp = pd.DataFrame(columns=['Performance','Functionality'])\n",
    "    np_tmp['Performance'] = [config['slow_performance']] * config['n_slow_advanced']\n",
    "    np_tmp['Functionality'] = [config['advanced_operations']] * config['n_slow_advanced']\n",
    "    df_system = df_system.append(np_tmp, ignore_index=True)\n",
    "    \n",
    "    if system_file != None:\n",
    "        df_system.to_csv(system_file, sep='\\t')\n",
    "         \n",
    "    return df_system"
   ]
  },
  {
   "cell_type": "code",
   "execution_count": 153,
   "metadata": {},
   "outputs": [],
   "source": [
    "def create_task(config, task_file=None):\n",
    "    df_task = pd.DataFrame(columns=['partition', 'complexity', 'period', 'functionalities'])\n",
    "    \n",
    "    # сложность выполняемая всеми продвинутыми процессорами за 1 времени\n",
    "    advanced_performance = config['n_fast_advanced']*config['fast_performance'] + \\\n",
    "                           config['n_slow_advanced']*config['slow_performance']\n",
    "    # сложность выполняемая всеми  процессорами за 1 времени\n",
    "    simple_performance = config['n_fast_simple']*config['fast_performance'] + \\\n",
    "                         config['n_slow_simple']*config['slow_performance'] + \\\n",
    "                         advanced_performance\n",
    "    \n",
    "    rows_list = []\n",
    "    # добавляем обычные разделы\n",
    "    for partition in range(1,config['n_partition_simple']+1):\n",
    "        # определяем число задач в разделе\n",
    "        n_task_partition = np.random.randint(config['range_tasks_partition_simple'][0],\\\n",
    "                                             config['range_tasks_partition_simple'][1]+1)\n",
    "        for task in range(n_task_partition):\n",
    "            #choose period \n",
    "            T = config['tasks_periods'][np.random.randint(len(config['tasks_periods']))]\n",
    "            row = [partition, 0, T, config['simple_operations']]\n",
    "            rows_list.append(row)\n",
    "    \n",
    "    df_task_tmp = pd.DataFrame(rows_list,columns=['partition', 'complexity', 'period', 'functionalities'])\n",
    "    df_task_tmp['complexity'] = np.round(config['load_partition_simple']/df_task_tmp.shape[0] * \\\n",
    "                                         df_task_tmp['period'] * simple_performance)\n",
    "    df_task = df_task.append(df_task_tmp)\n",
    "    \n",
    "    rows_list = []\n",
    "    # добавляем продвинутые разделы\n",
    "    for partition in range(1,config['n_partition_advanced']+1):\n",
    "        # определяем число задач в разделе\n",
    "        n_task_partition = np.random.randint(config['range_tasks_partition_advanced'][0],\\\n",
    "                                             config['range_tasks_partition_advanced'][1]+1)\n",
    "        for task in range(n_task_partition):\n",
    "            #choose period \n",
    "            T = config['tasks_periods'][np.random.randint(len(config['tasks_periods']))]\n",
    "            row = [partition + config['n_partition_simple'], 0, T, config['advanced_operations']]\n",
    "            rows_list.append(row)\n",
    "    \n",
    "    df_task_tmp = pd.DataFrame(rows_list,columns=['partition', 'complexity','period', 'functionalities'])\n",
    "    df_task_tmp['complexity'] = np.round(config['load_partition_simple']/df_task_tmp.shape[0] * \\\n",
    "                                         df_task_tmp['period'] * advanced_performance)\n",
    "    df_task = df_task.append(df_task_tmp,  ignore_index=True)\n",
    "    \n",
    "    df_task = df_task.astype({'partition':float, 'complexity':float, 'period':float})\n",
    "    \n",
    "    if task_file != None:\n",
    "        df_task.to_csv(task_file, sep='\\t')\n",
    "\n",
    "    return df_task"
   ]
  },
  {
   "cell_type": "code",
   "execution_count": 154,
   "metadata": {},
   "outputs": [],
   "source": [
    "def compute_load(config, df_task):\n",
    "    # сложность выполняемая всеми продвинутыми процессорами за 1 времени\n",
    "    advanced_performance = config['n_fast_advanced']*config['fast_performance'] + \\\n",
    "                           config['n_slow_advanced']*config['slow_performance']\n",
    "    # сложность выполняемая всеми  процессорами за 1 времени\n",
    "    simple_performance = config['n_fast_simple']*config['fast_performance'] + \\\n",
    "                         config['n_slow_simple']*config['slow_performance'] + \\\n",
    "                         advanced_performance\n",
    "    # T = 3000 цикл планированяи\n",
    "    T = 3000\n",
    "    \n",
    "    task_complex_list = df_task['complexity']*(T/df_task['period'])\n",
    "    task_complex = task_complex_list.sum()\n",
    "    \n",
    "    load = task_complex/(simple_performance*T)\n",
    "    return load"
   ]
  },
  {
   "cell_type": "code",
   "execution_count": 155,
   "metadata": {},
   "outputs": [],
   "source": [
    "def create_configuration(params,path='TEST'):\n",
    "    if not os.path.exists(path):\n",
    "        os.mkdir(path)\n",
    "    create_system(params, system_file=path+'/'+'system')\n",
    "    df_task = create_task(params, task_file=path+'/'+'task')\n",
    "    config = params.copy()\n",
    "    config['real_load'] = compute_load(params,df_task)\n",
    "    file_config = path+'/'+'config'\n",
    "    with open(file_config,'wb') as file:\n",
    "        pickle.dump(config, file)"
   ]
  },
  {
   "cell_type": "code",
   "execution_count": 300,
   "metadata": {},
   "outputs": [],
   "source": [
    "def create_result(paths):\n",
    "    rows_list = []\n",
    "    for path in paths: \n",
    "        file_config = path+'/'+'config'\n",
    "        with open(file_config,'rb') as file:\n",
    "            config = pickle.load(file) \n",
    "        partitions = config['n_partition_simple']+config['n_partition_advanced']\n",
    "        processors = config['n_fast_simple']+config['n_slow_simple']+\\\n",
    "                     config['n_fast_advanced']+config['n_slow_advanced']\n",
    "        load = config['real_load']\n",
    "        \n",
    "        file_result = path+'/' +'task' + '.res.txt.res'\n",
    "        print(file_result)\n",
    "        with open(file_result,'r') as file:\n",
    "            file.readline()\n",
    "            res = file.readline()\n",
    "            print(res)\n",
    "            time, works, eff = np.array(res.split(',')).astype(float)\n",
    "        \n",
    "        rows_list.append([path, partitions, processors, load, works, time, eff])\n",
    "        \n",
    "    df_res = pd.DataFrame(rows_list,\\\n",
    "                          columns=['path','partitions', 'processors','load', 'works', 'time', 'eff'])   \n",
    "        \n",
    "    return df_res"
   ]
  },
  {
   "cell_type": "code",
   "execution_count": 220,
   "metadata": {},
   "outputs": [],
   "source": [
    "def eff3color(eff):\n",
    "    if eff == 1:\n",
    "        return 'g'\n",
    "    elif eff > 0.9:\n",
    "        return 'y'\n",
    "    elif eff > 0.8:\n",
    "        return 'o'\n",
    "    else:\n",
    "        return 'r'"
   ]
  },
  {
   "cell_type": "code",
   "execution_count": 304,
   "metadata": {},
   "outputs": [],
   "source": [
    "def plot_result(res, file=None):\n",
    "    res['color'] = res.apply(lambda x: eff3color(x['eff']),axis=1)\n",
    "    res_load_low = res[res.load < 0.5]\n",
    "    res_load_mid = res[(res.load >= 0.5) & (res.load < 0.7)]\n",
    "    res_load_high = res[res.load >= 0.7]\n",
    "    \n",
    "    to_plot = [(res_load_low,'low'), (res_load_mid,'mid'), (res_load_high,'high')]\n",
    "    for res_to_plot in to_plot: \n",
    "        r = res_to_plot[0]\n",
    "        if r.shape[0] == 0:\n",
    "            continue      \n",
    "        plt.figure()\n",
    "        plt.scatter(x=r['works'],y=r['time'], c=r['color'])\n",
    "        if file!=None:\n",
    "            plt.savefig(file+'_'+res_to_plot[1])"
   ]
  },
  {
   "cell_type": "code",
   "execution_count": 287,
   "metadata": {},
   "outputs": [],
   "source": [
    "def create_set(file):\n",
    "    df = pd.read_csv(file,sep='\\t')\n",
    "    df['range_tasks_partition_simple'] = df.apply(lambda x: np.array(x.range_tasks_partition_simple.split(',')).astype(int),axis=1)\n",
    "    df['range_tasks_partition_advanced'] = df.apply(lambda x: np.array(x.range_tasks_partition_advanced.split(',')).astype(int),axis=1)\n",
    "    df['tasks_periods'] = df.apply(lambda x: np.array(x.tasks_periods.split(',')).astype(int),axis=1)\n",
    "\n",
    "    for i in range(df.shape[0]):\n",
    "        params = df.iloc[i].to_dict()\n",
    "        print(params)\n",
    "        create_configuration(params,path=f'TEST{i}')"
   ]
  },
  {
   "cell_type": "code",
   "execution_count": 288,
   "metadata": {},
   "outputs": [
    {
     "name": "stdout",
     "output_type": "stream",
     "text": [
      "{'n_fast_simple': 2, 'n_slow_simple': 4, 'n_fast_advanced': 2, 'n_slow_advanced': 1, 'n_partition_simple': 7, 'n_partition_advanced': 4, 'range_tasks_partition_simple': array([5, 8]), 'range_tasks_partition_advanced': array([4, 6]), 'load_partition_simple': 0.6, 'load_partition_advanced': 0.3, 'fast_performance': 100, 'slow_performance': 50, 'simple_operations': 'f1', 'advanced_operations': 'f1,f2', 'tasks_periods': array([ 100,  500, 1000, 1500, 3000])}\n",
      "{'n_fast_simple': 2, 'n_slow_simple': 4, 'n_fast_advanced': 2, 'n_slow_advanced': 1, 'n_partition_simple': 7, 'n_partition_advanced': 4, 'range_tasks_partition_simple': array([5, 8]), 'range_tasks_partition_advanced': array([4, 6]), 'load_partition_simple': 0.4, 'load_partition_advanced': 0.5, 'fast_performance': 100, 'slow_performance': 50, 'simple_operations': 'f1', 'advanced_operations': 'f1,f2', 'tasks_periods': array([ 100,  500, 1000, 1500, 3000])}\n"
     ]
    }
   ],
   "source": [
    "create_set('exp.txt')"
   ]
  },
  {
   "cell_type": "code",
   "execution_count": 301,
   "metadata": {},
   "outputs": [
    {
     "name": "stdout",
     "output_type": "stream",
     "text": [
      "TEST0/task.res.txt.res\n",
      "13.990000, 517, 0.928364\n",
      "\n",
      "TEST1/task.res.txt.res\n",
      "0.120000, 422, 1.000000\n",
      "\n"
     ]
    }
   ],
   "source": [
    "res = create_result(['TEST0','TEST1'])"
   ]
  },
  {
   "cell_type": "code",
   "execution_count": 302,
   "metadata": {},
   "outputs": [
    {
     "data": {
      "text/html": [
       "<div>\n",
       "<style scoped>\n",
       "    .dataframe tbody tr th:only-of-type {\n",
       "        vertical-align: middle;\n",
       "    }\n",
       "\n",
       "    .dataframe tbody tr th {\n",
       "        vertical-align: top;\n",
       "    }\n",
       "\n",
       "    .dataframe thead th {\n",
       "        text-align: right;\n",
       "    }\n",
       "</style>\n",
       "<table border=\"1\" class=\"dataframe\">\n",
       "  <thead>\n",
       "    <tr style=\"text-align: right;\">\n",
       "      <th></th>\n",
       "      <th>path</th>\n",
       "      <th>partitions</th>\n",
       "      <th>processors</th>\n",
       "      <th>load</th>\n",
       "      <th>works</th>\n",
       "      <th>time</th>\n",
       "      <th>eff</th>\n",
       "    </tr>\n",
       "  </thead>\n",
       "  <tbody>\n",
       "    <tr>\n",
       "      <th>0</th>\n",
       "      <td>TEST0</td>\n",
       "      <td>11</td>\n",
       "      <td>9</td>\n",
       "      <td>0.830744</td>\n",
       "      <td>517.0</td>\n",
       "      <td>13.99</td>\n",
       "      <td>0.928364</td>\n",
       "    </tr>\n",
       "    <tr>\n",
       "      <th>1</th>\n",
       "      <td>TEST1</td>\n",
       "      <td>11</td>\n",
       "      <td>9</td>\n",
       "      <td>0.553866</td>\n",
       "      <td>422.0</td>\n",
       "      <td>0.12</td>\n",
       "      <td>1.000000</td>\n",
       "    </tr>\n",
       "  </tbody>\n",
       "</table>\n",
       "</div>"
      ],
      "text/plain": [
       "    path  partitions  processors      load  works   time       eff\n",
       "0  TEST0          11           9  0.830744  517.0  13.99  0.928364\n",
       "1  TEST1          11           9  0.553866  422.0   0.12  1.000000"
      ]
     },
     "execution_count": 302,
     "metadata": {},
     "output_type": "execute_result"
    }
   ],
   "source": [
    "res"
   ]
  },
  {
   "cell_type": "code",
   "execution_count": 305,
   "metadata": {},
   "outputs": [
    {
     "data": {
      "image/png": "[encoded data removed]",
      "text/plain": [
       "<Figure size 432x288 with 1 Axes>"
      ]
     },
     "metadata": {
      "needs_background": "light"
     },
     "output_type": "display_data"
    },
    {
     "data": {
      "image/png": "[encoded data removed]",
      "text/plain": [
       "<Figure size 432x288 with 1 Axes>"
      ]
     },
     "metadata": {
      "needs_background": "light"
     },
     "output_type": "display_data"
    }
   ],
   "source": [
    "plot_result(res)"
   ]
  }
 ],
 "metadata": {
  "kernelspec": {
   "display_name": "Python 3",
   "language": "python",
   "name": "python3"
  },
  "language_info": {
   "codemirror_mode": {
    "name": "ipython",
    "version": 3
   },
   "file_extension": ".py",
   "mimetype": "text/x-python",
   "name": "python",
   "nbconvert_exporter": "python",
   "pygments_lexer": "ipython3",
   "version": "3.6.8"
  }
 },
 "nbformat": 4,
 "nbformat_minor": 2
}
