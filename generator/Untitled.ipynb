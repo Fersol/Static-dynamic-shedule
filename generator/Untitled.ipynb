{
 "cells": [
  {
   "cell_type": "code",
   "execution_count": null,
   "metadata": {},
   "outputs": [],
   "source": [
    "params={\n",
    "    'n_fast_simple':1,\n",
    "    'n_slow_simple':2,\n",
    "    'n_fast_advanced':2,\n",
    "    'n_slow_advanced':1,\n",
    "    \n",
    "    \n",
    "    \n",
    "    'fast_performance':100,\n",
    "    'slow_performance':50,\n",
    "    'simple_operations':\"f1\",\n",
    "    'advanced_operations':\"f1;f2\",\n",
    "    'tasks_periods':[100, 500, 1000, 1500, 2000, 3000]\n",
    "    \n",
    "}"
   ]
  }
 ],
 "metadata": {
  "kernelspec": {
   "display_name": "Python 3",
   "language": "python",
   "name": "python3"
  },
  "language_info": {
   "codemirror_mode": {
    "name": "ipython",
    "version": 3
   },
   "file_extension": ".py",
   "mimetype": "text/x-python",
   "name": "python",
   "nbconvert_exporter": "python",
   "pygments_lexer": "ipython3",
   "version": "3.6.8"
  }
 },
 "nbformat": 4,
 "nbformat_minor": 2
}
