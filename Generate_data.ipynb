{
 "cells": [
  {
   "cell_type": "code",
   "execution_count": 67,
   "metadata": {
    "collapsed": true
   },
   "outputs": [],
   "source": [
    "import pandas as pd\n",
    "import numpy as np\n",
    "import csv\n",
    "import scipy\n",
    "import sys\n",
    "import os\n",
    "import matplotlib.pyplot as plt\n",
    "\n",
    "%matplotlib inline"
   ]
  },
  {
   "cell_type": "markdown",
   "metadata": {},
   "source": [
    "# ------------------------\n",
    "# Периодические задачи\n",
    "# ------------------------"
   ]
  },
  {
   "cell_type": "markdown",
   "metadata": {},
   "source": [
    "## Характеристики задачи"
   ]
  },
  {
   "cell_type": "code",
   "execution_count": 3,
   "metadata": {
    "collapsed": false
   },
   "outputs": [],
   "source": [
    "def find_features_tasks(df):\n",
    "    '''\n",
    "    Находит следующие характеристики для задачи\n",
    "    Число задач\n",
    "    Общее время выполнения\n",
    "    Общий период\n",
    "    Число разделов\n",
    "    Загрузка(отношение общего времени выполнения к общему периоду)\n",
    "    Число интервалов\n",
    "    '''\n",
    "    Time = 1\n",
    "    periods = df['period'].as_matrix()\n",
    "    runtimes = df['runtime'].as_matrix()\n",
    "    partitions = df['partition'].as_matrix()\n",
    "    \n",
    "    num_tasks = df.shape[0]\n",
    "    num_part = len(np.unique(np.sort(partitions)))\n",
    "    print(\"Num of partitions: \", num_part)\n",
    "    for x in periods:\n",
    "        Time = NOK(Time, x)\n",
    "        \n",
    "    counts = np.array([Time/x for x in periods])\n",
    "    \n",
    "    all_runtime = sum(runtimes[i]*counts[i] for i in range(len(df)))\n",
    "    print(\"All_runtime: \",all_runtime)\n",
    "    \n",
    "    intervals = set()\n",
    "    intervals.add(0)\n",
    "    for x in periods:\n",
    "        y = x\n",
    "        while(y <= Time):\n",
    "            intervals.add(y);\n",
    "            y += x;\n",
    "            \n",
    "    num_of_intervals = len(intervals) - 1;\n",
    "    print(\"All time: \",Time)\n",
    "    load = all_runtime / Time\n",
    "    print('Load: ', load)\n",
    "    print(\"Число интервалов: \", num_of_intervals)\n",
    "    return tuple((num_tasks,all_runtime, Time, num_part, load, num_of_intervals))\n",
    "    \n",
    "    "
   ]
  },
  {
   "cell_type": "code",
   "execution_count": 4,
   "metadata": {
    "collapsed": false
   },
   "outputs": [],
   "source": [
    "def NOD(a, b):\n",
    "    while a != 0 and b != 0:\n",
    "        if a > b:\n",
    "            a %= b\n",
    "        else:\n",
    "            b %= a\n",
    "    return a + b\n",
    "\n",
    "\n",
    "def NOK(a, b):\n",
    "    return a*b / NOD(a, b)\n"
   ]
  },
  {
   "cell_type": "markdown",
   "metadata": {},
   "source": [
    "## Генерация по распределению  "
   ]
  },
  {
   "cell_type": "markdown",
   "metadata": {},
   "source": [
    "Создается таблица разделы х задачи, в ячейках указывается время работы, как часть от периода.\n",
    "И задается такая же табличка для периодов.\n",
    "Можно указать загрузку.\n",
    "\n",
    "num_tasks - вектор числа задач по разделам\n",
    "\n",
    "mode - normal - равномерное распределени"
   ]
  },
  {
   "cell_type": "code",
   "execution_count": 39,
   "metadata": {
    "collapsed": true
   },
   "outputs": [],
   "source": [
    "def create_distrib(num_tasks, max_period = 10, mode='normal', mul_period=10, part=None, load=1.):\n",
    "    if (mode == 'normal'):\n",
    "        num_part = len(num_tasks)\n",
    "        max_tasks = max(num_tasks)\n",
    "        all_tasks = sum(num_tasks)\n",
    "        distrib = np.zeros((num_part, max_tasks))\n",
    "        period = np.zeros((num_part, max_tasks))\n",
    "        for i in range(num_part):\n",
    "            for j in range(num_tasks[i]):\n",
    "                period[i][j] = int(np.random.randint(1, max_period + 1)) * mul_period\n",
    "                distrib[i][j] = load*1./all_tasks\n",
    "        return distrib, period\n",
    "    elif (mode == 'one_part'):\n",
    "        num_part = num_tasks.shape[0]\n",
    "        max_tasks = num_tasks.max()\n",
    "        all_tasks = num_tasks.sum() - 1\n",
    "        distrib = np.zeros((num_part, max_tasks))\n",
    "        period = np.zeros((num_part, max_tasks))\n",
    "        for i in range(num_part):\n",
    "            for j in range(num_tasks[i]):\n",
    "                period[i][j] = int(np.random.randint(1, max_period + 1)) * mul_period\n",
    "                distrib[i][j] = load*(1.-part)/all_tasks\n",
    "        period[0][0] = max_period * mul_period\n",
    "        distrib[0][0] = part * load\n",
    "        return distrib, period"
   ]
  },
  {
   "cell_type": "code",
   "execution_count": 38,
   "metadata": {
    "collapsed": true
   },
   "outputs": [],
   "source": [
    "def create_tasks_by_distrib(task_distrib, periods):\n",
    "    '''\n",
    "    Create one task for static-dynamic shedule\n",
    "    task_distrib - nparray\n",
    "    first axis - partition, second axis - distribution of time for every\n",
    "    periods - periods for tasks\n",
    "    '''\n",
    "    df = pd.DataFrame(columns=['partition', 'runtime', 'period'])\n",
    "    for i in range(task_distrib.shape[0]):\n",
    "        for j in range(task_distrib.shape[1]):\n",
    "            if (task_distrib[i][j] == 0):\n",
    "                break\n",
    "                \n",
    "            d = np.array([0, 0, 0], dtype=int)\n",
    "            d[0] = i + 1\n",
    "            d[2] = periods[i][j]\n",
    "            d[1] = task_distrib[i][j] * d[2]\n",
    "            if (d[1] <= 1.):\n",
    "                d[1] = 1.\n",
    "            df.loc[len(df)] = d\n",
    "    return df\n",
    "    "
   ]
  },
  {
   "cell_type": "code",
   "execution_count": 7,
   "metadata": {
    "collapsed": true
   },
   "outputs": [],
   "source": [
    "example_distrib = np.array([[0.1, 0.3, 0.2],\n",
    "                            [0.1, 0, 0],\n",
    "                            [0.2, 0 ,0]])\n",
    "example_periods = np.array([[10, 20, 40],\n",
    "                            [50, 0, 0],\n",
    "                            [100, 0 ,0]])"
   ]
  },
  {
   "cell_type": "code",
   "execution_count": 37,
   "metadata": {
    "collapsed": false
   },
   "outputs": [],
   "source": [
    "def create_test_sample_dist(num_tasks, DIR, mul_period=10, mode='normal', part=None, max_period = 10, load=1., time_to_switch = 1):\n",
    "    '''\n",
    "    num_tasks - список массивов\n",
    "    Создает len(num_tasks) файлов с именами testi.tsv, где i - номер задачи\n",
    "    В файл meta.tsv помещается информация об этих задачах\n",
    "    Возвращает строку с именами файлов, записанными через запятую\n",
    "    '''\n",
    "\n",
    "    os.mkdir(DIR)\n",
    "    with open(DIR+'/TEST.txt', 'w') as file_output:\n",
    "        df_f =  pd.DataFrame(columns=['num_tasks','all_runtime', 'Time', 'num_part', 'load', 'num_of_intervals', 'time_to_switch'])\n",
    "        for x in range(num_tasks.shape[0]):\n",
    "            file = DIR+\"/test\" + str(x) + \".tsv\"\n",
    "            file_output.write(file+' '+str(time_to_switch)+'\\n');\n",
    "            print (num_tasks[x])\n",
    "            distr, period = create_distrib(num_tasks[x], mul_period=mul_period, mode=mode, part=part, max_period=max_period, load=load)\n",
    "            df = create_tasks_by_distrib(distr, period)\n",
    "            df.to_csv(file, sep =\"\\t\")\n",
    "\n",
    "            features = find_features_tasks(df)       \n",
    "            node = np.empty((len(features))+1)\n",
    "            for i in range(len(features)):\n",
    "                node[i] = features[i]\n",
    "            node[len(features)] = time_to_switch\n",
    "            df_f.loc[len(df_f)] = node \n",
    "        \n",
    "    df_f.to_csv(DIR+\"/meta.tsv\", sep=\"\\t\")"
   ]
  },
  {
   "cell_type": "code",
   "execution_count": 33,
   "metadata": {
    "collapsed": true
   },
   "outputs": [],
   "source": [
    "tasks = np.array([[6, 2, 3],\n",
    "                  [1, 2, 4],\n",
    "                  [1, 2]])"
   ]
  },
  {
   "cell_type": "code",
   "execution_count": 36,
   "metadata": {
    "collapsed": false,
    "scrolled": true
   },
   "outputs": [
    {
     "name": "stdout",
     "output_type": "stream",
     "text": [
      "[6, 2, 3]\n",
      "Num of partitions:  3\n",
      "All_runtime:  586597.0\n",
      "All time:  840000.0\n",
      "Load:  0.698329761905\n",
      "Число интервалов:  840\n",
      "[1, 2, 4]\n",
      "Num of partitions:  3\n",
      "All_runtime:  83901.0\n",
      "All time:  120000.0\n",
      "Load:  0.699175\n",
      "Число интервалов:  64\n",
      "[1, 2]\n",
      "Num of partitions:  2\n",
      "All_runtime:  8393.0\n",
      "All time:  12000.0\n",
      "Load:  0.699416666667\n",
      "Число интервалов:  6\n"
     ]
    }
   ],
   "source": [
    "create_test_sample_dist(tasks, \"TestXIIIIII\", mul_period=1000, mode='normal', max_period=10, load=0.7)"
   ]
  },
  {
   "cell_type": "markdown",
   "metadata": {},
   "source": [
    "## Равномерное распределение параметров задач"
   ]
  },
  {
   "cell_type": "code",
   "execution_count": 16,
   "metadata": {
    "collapsed": false
   },
   "outputs": [],
   "source": [
    "def create_tasks_random(num_tasks, num_part, max_period):\n",
    "    '''\n",
    "    Create one task for static-dynamic shedule\n",
    "    равномерное распределение\n",
    "    \n",
    "    '''\n",
    "    df = pd.DataFrame(columns=['partition', 'runtime', 'period'])\n",
    "    for i in range(num_tasks):\n",
    "        d = np.array([0, 0, 0], dtype=int)\n",
    "        d[0] = np.random.randint(1, num_part + 1)\n",
    "        d[2] = np.random.randint(1, max_period + 1) * 10\n",
    "        d[1] = np.random.randint(1, (1.8 * d[2] / num_tasks) + 1)\n",
    "        df.loc[len(df)] = d\n",
    "    return df\n",
    "    "
   ]
  },
  {
   "cell_type": "code",
   "execution_count": 48,
   "metadata": {
    "collapsed": false
   },
   "outputs": [],
   "source": [
    "def create_test_sample(n_problems, part_c, max_period, tasks_c, time_to_switch, DIR):\n",
    "    '''\n",
    "    Создает n_problems файлов с именами testi.tsv, где i - номер задачи\n",
    "    В файл meta.tsv помещается информация об этих задачах\n",
    "    Возвращает строку с именами файлов, записанными через запятую\n",
    "    '''\n",
    "    os.mkdir(DIR)\n",
    "    with open(DIR+'/TEST.txt', 'w') as file_output:\n",
    "        str_ = \"\"\n",
    "        df_f =  pd.DataFrame(columns=['num_tasks','all_runtime', 'Time', 'num_part', 'load', 'num_of_intervals', 'time_to_switch'])\n",
    "        for x in range(n_problems):\n",
    "            file = DIR+\"/test\" + str(x) + \".tsv\"\n",
    "            file_output.write(file+' '+str(time_to_switch)+'\\n');\n",
    "            str_ += file + \",\"\n",
    "            df = create_tasks_random(tasks_c, part_c, max_period)\n",
    "            df.to_csv(file, sep =\"\\t\")\n",
    "\n",
    "            features = find_features_tasks(df)       \n",
    "            node = np.empty((len(features))+1)\n",
    "            for i in range(len(features)):\n",
    "                node[i] = features[i]\n",
    "            node[len(features)] = time_to_switch\n",
    "            df_f.loc[len(df_f)] = node \n",
    "        \n",
    "    df_f.to_csv(DIR+\"/meta.tsv\", sep=\"\\t\")\n",
    "    return str_       "
   ]
  },
  {
   "cell_type": "code",
   "execution_count": 51,
   "metadata": {
    "collapsed": false,
    "scrolled": false
   },
   "outputs": [
    {
     "name": "stdout",
     "output_type": "stream",
     "text": [
      "Num of partitions:  3\n",
      "All_runtime:  401.0\n",
      "All time:  400.0\n",
      "Load:  1.0025\n",
      "Число интервалов:  40\n",
      "Num of partitions:  2\n",
      "All_runtime:  18253.0\n",
      "All time:  25200.0\n",
      "Load:  0.724325396825\n",
      "Число интервалов:  1464\n",
      "Num of partitions:  3\n",
      "All_runtime:  169.0\n",
      "All time:  180.0\n",
      "Load:  0.938888888889\n",
      "Число интервалов:  18\n"
     ]
    },
    {
     "data": {
      "text/plain": [
       "'Test7/test0.tsv,Test7/test1.tsv,Test7/test2.tsv,'"
      ]
     },
     "execution_count": 51,
     "metadata": {},
     "output_type": "execute_result"
    }
   ],
   "source": [
    "create_test_sample(3, 3, 9, 7, 4, \"Test7\")"
   ]
  },
  {
   "cell_type": "markdown",
   "metadata": {},
   "source": [
    "# -----------------\n",
    "# Обычные работы\n",
    "# -----------------"
   ]
  },
  {
   "cell_type": "markdown",
   "metadata": {},
   "source": [
    "## Характеристики работ"
   ]
  },
  {
   "cell_type": "code",
   "execution_count": 51,
   "metadata": {
    "collapsed": true
   },
   "outputs": [],
   "source": [
    "def find_features_works(df):\n",
    "    '''\n",
    "    Находит следующие характеристики для задачи\n",
    "    Число задач\n",
    "    Общее время выполнения\n",
    "    Общий период\n",
    "    Число разделов\n",
    "    Загрузка(отношение общего времени выполнения к общему периоду)\n",
    "    Число интервалов\n",
    "    '''\n",
    "    \n",
    "    starts = df['start'].as_matrix()\n",
    "    finishes = df['finish'].as_matrix()\n",
    "    runtimes = df['runtime'].as_matrix()\n",
    "    partitions = df['partition'].as_matrix()\n",
    "    \n",
    "    num_tasks = df.shape[0]\n",
    "    num_part = len(np.unique(np.sort(partitions)))\n",
    "    #print(\"Num of partitions: \", num_part)\n",
    "\n",
    "    Time = np.max(finishes)   \n",
    "    #counts = np.array([Time/x for x in periods])\n",
    "    \n",
    "    all_runtime = np.sum(runtimes)\n",
    "    \n",
    "    #print(\"All_runtime: \",all_runtime)\n",
    "    \n",
    "    intervals = set()\n",
    "    intervals.add(0)\n",
    "    for x in starts:\n",
    "        intervals.add(x)\n",
    "    for x in finishes:\n",
    "        intervals.add(x)          \n",
    "    num_of_intervals = len(intervals) - 1;\n",
    "    \n",
    "    #print(\"All time: \",Time)\n",
    "    \n",
    "    load = all_runtime / Time\n",
    "    \n",
    "    average_runtime = all_runtime/ num_tasks\n",
    "    #print('Load: ', load)\n",
    "    #print(\"Число интервалов: \", num_of_intervals)\n",
    "    return tuple((num_tasks, average_runtime, num_part, load, num_of_intervals))\n",
    "      "
   ]
  },
  {
   "cell_type": "markdown",
   "metadata": {},
   "source": [
    "## Равномерное распределение"
   ]
  },
  {
   "cell_type": "code",
   "execution_count": 63,
   "metadata": {
    "collapsed": false
   },
   "outputs": [],
   "source": [
    "def create_works_plan(max_time, delta, num_of_works, num_of_part, load, c, n_proc=1, mul=1):\n",
    "    '''\n",
    "    Создание планируемого расписания  \n",
    "    '''\n",
    "    df = pd.DataFrame(columns=['partition', 'runtime', 'start', 'finish'])\n",
    "    for j in range(n_proc):\n",
    "        current_time = 0  \n",
    "        for i in range(int(num_of_works/n_proc)):\n",
    "            d = np.array([0, 0, 0, 0], dtype=int)\n",
    "            d[1] = np.random.randint(1,max_time)*mul\n",
    "            d[0] = np.random.randint(0, num_of_part/n_proc) + j*(num_of_part/n_proc) + 1\n",
    "            d[2] = max(current_time - np.random.randint(delta)*mul, 0)\n",
    "            d[3] = current_time + d[1] + np.random.randint(delta)*mul\n",
    "            current_time += c + d[1]*1.0/load\n",
    "            df.loc[len(df)] = d\n",
    "    return df"
   ]
  },
  {
   "cell_type": "code",
   "execution_count": 64,
   "metadata": {
    "collapsed": false
   },
   "outputs": [],
   "source": [
    "def create_test_sample_works_plan( DIR, mul=1, n_problems = 5, max_time = 10, delta = 4, time_to_switch = 1, load = 0.8, num_of_works = 12, num_of_part = 3, n_proc=1):\n",
    "    '''\n",
    "    Создает n_problems файлов с именами testi.tsv, где i - номер задачи\n",
    "    В файл meta.tsv помещается информация об этих задачах\n",
    "    Возвращает строку с именами файлов, записанными через запятую\n",
    "    '''\n",
    "    os.mkdir(DIR)\n",
    "    with open(DIR+'/TEST.txt', 'w') as file_output:\n",
    "        str_ = \"\"\n",
    "        df_f =  pd.DataFrame(columns=['num_tasks','average_runtime', 'num_part', 'load', 'num_of_intervals'])\n",
    "        for x in range(n_problems):\n",
    "            file = DIR+\"/test\" + str(x) + \".tsv\"\n",
    "            file_output.write(file+' '+str(time_to_switch)+'\\n');\n",
    "            str_ += file + \",\"\n",
    "            df = create_works_plan(n_proc=n_proc, max_time = max_time, delta = delta, num_of_works = num_of_works, num_of_part = num_of_part, load=load, mul=mul, c=time_to_switch)\n",
    "            df.to_csv(file, sep =\"\\t\")\n",
    "\n",
    "            features = find_features_works(df)       \n",
    "            node = np.empty((len(features)))\n",
    "            for i in range(len(features)):\n",
    "                node[i] = features[i]\n",
    "            #node[len(features)] = time_to_switch\n",
    "            df_f.loc[len(df_f)] = node \n",
    "        \n",
    "    df_f.to_csv(DIR+\"/meta.tsv\", sep=\"\\t\")\n",
    "    return str_  "
   ]
  },
  {
   "cell_type": "code",
   "execution_count": 19,
   "metadata": {
    "collapsed": false
   },
   "outputs": [
    {
     "name": "stdout",
     "output_type": "stream",
     "text": [
      "Num of partitions:  3\n",
      "All_runtime:  67.0\n",
      "All time:  81.0\n",
      "Load:  0.827160493827\n",
      "Число интервалов:  20\n",
      "Num of partitions:  3\n",
      "All_runtime:  58.0\n",
      "All time:  71.0\n",
      "Load:  0.816901408451\n",
      "Число интервалов:  20\n",
      "Num of partitions:  3\n",
      "All_runtime:  64.0\n",
      "All time:  75.0\n",
      "Load:  0.853333333333\n",
      "Число интервалов:  21\n",
      "Num of partitions:  3\n",
      "All_runtime:  52.0\n",
      "All time:  64.0\n",
      "Load:  0.8125\n",
      "Число интервалов:  21\n",
      "Num of partitions:  3\n",
      "All_runtime:  62.0\n",
      "All time:  76.0\n",
      "Load:  0.815789473684\n",
      "Число интервалов:  22\n",
      "Num of partitions:  3\n",
      "All_runtime:  72.0\n",
      "All time:  86.0\n",
      "Load:  0.837209302326\n",
      "Число интервалов:  21\n",
      "Num of partitions:  2\n",
      "All_runtime:  53.0\n",
      "All time:  67.0\n",
      "Load:  0.791044776119\n",
      "Число интервалов:  21\n",
      "Num of partitions:  3\n",
      "All_runtime:  42.0\n",
      "All time:  54.0\n",
      "Load:  0.777777777778\n",
      "Число интервалов:  20\n",
      "Num of partitions:  3\n",
      "All_runtime:  53.0\n",
      "All time:  66.0\n",
      "Load:  0.80303030303\n",
      "Число интервалов:  19\n",
      "Num of partitions:  3\n",
      "All_runtime:  53.0\n",
      "All time:  67.0\n",
      "Load:  0.791044776119\n",
      "Число интервалов:  20\n"
     ]
    },
    {
     "data": {
      "text/plain": [
       "'TestWIIII/test0.tsv,TestWIIII/test1.tsv,TestWIIII/test2.tsv,TestWIIII/test3.tsv,TestWIIII/test4.tsv,TestWIIII/test5.tsv,TestWIIII/test6.tsv,TestWIIII/test7.tsv,TestWIIII/test8.tsv,TestWIIII/test9.tsv,'"
      ]
     },
     "execution_count": 19,
     "metadata": {},
     "output_type": "execute_result"
    }
   ],
   "source": [
    "create_test_sample_works_plan(\"TestWIIII\")"
   ]
  },
  {
   "cell_type": "code",
   "execution_count": 21,
   "metadata": {
    "collapsed": false
   },
   "outputs": [
    {
     "name": "stdout",
     "output_type": "stream",
     "text": [
      "Num of partitions:  21\n",
      "All_runtime:  94998.0\n",
      "All time:  40710.0\n",
      "Load:  2.33352984525\n",
      "Число интервалов:  1937\n"
     ]
    },
    {
     "data": {
      "text/plain": [
       "'T92/test0.tsv,'"
      ]
     },
     "execution_count": 21,
     "metadata": {},
     "output_type": "execute_result"
    }
   ],
   "source": [
    "create_test_sample_works_plan(\"T92\", n_problems = 1, num_of_part=7, num_of_works=330, max_time=200, delta = 1000, n_proc=3, load=0.8)"
   ]
  },
  {
   "cell_type": "code",
   "execution_count": null,
   "metadata": {
    "collapsed": true
   },
   "outputs": [],
   "source": [
    "create_test_sample_works_plan(\"C1W10P3L5M10\", num_of_works=10, num_of_part=3, load=0.5, mul=10, max_time=200, n_problems = 3,   delta = 1000, n_proc=1 )"
   ]
  },
  {
   "cell_type": "code",
   "execution_count": null,
   "metadata": {
    "collapsed": true
   },
   "outputs": [],
   "source": [
    "create_test_sample_works_plan(\"C1W100P3L5M10\", num_of_works=100, num_of_part=3, load=0.5, mul=10, max_time=200, n_problems = 3,   delta = 1000, n_proc=1 )"
   ]
  },
  {
   "cell_type": "code",
   "execution_count": null,
   "metadata": {
    "collapsed": true
   },
   "outputs": [],
   "source": [
    "create_test_sample_works_plan(\"C1W500P3L5M10\", num_of_works=500, num_of_part=3, load=0.5, mul=10, max_time=200, n_problems = 3,   delta = 1000, n_proc=1 )"
   ]
  },
  {
   "cell_type": "code",
   "execution_count": null,
   "metadata": {
    "collapsed": true
   },
   "outputs": [],
   "source": [
    "create_test_sample_works_plan(\"C1W1000P3L5M10\", num_of_works=1000, num_of_part=3, load=0.5, mul=10, max_time=200, n_problems = 3,   delta = 1000, n_proc=1 )"
   ]
  },
  {
   "cell_type": "code",
   "execution_count": 54,
   "metadata": {
    "collapsed": false
   },
   "outputs": [
    {
     "data": {
      "text/plain": [
       "'C1W1000P9L9M10/test0.tsv,C1W1000P9L9M10/test1.tsv,C1W1000P9L9M10/test2.tsv,'"
      ]
     },
     "execution_count": 54,
     "metadata": {},
     "output_type": "execute_result"
    }
   ],
   "source": [
    "create_test_sample_works_plan(\"C1W10P3L5M10\", num_of_works=10, num_of_part=3, load=0.5, mul=10, max_time=200, n_problems = 3,   delta = 1000, n_proc=1 )\n",
    "create_test_sample_works_plan(\"C1W100P3L5M10\", num_of_works=100, num_of_part=3, load=0.5, mul=10, max_time=200, n_problems = 3,   delta = 1000, n_proc=1 )\n",
    "create_test_sample_works_plan(\"C1W500P3L5M10\", num_of_works=500, num_of_part=3, load=0.5, mul=10, max_time=200, n_problems = 3,   delta = 1000, n_proc=1 )\n",
    "create_test_sample_works_plan(\"C1W1000P3L5M10\", num_of_works=1000, num_of_part=3, load=0.5, mul=10, max_time=200, n_problems = 3,   delta = 1000, n_proc=1 )\n",
    "\n",
    "create_test_sample_works_plan(\"C1W10P5L5M10\", num_of_works=10, num_of_part=5, load=0.5, mul=10, max_time=200, n_problems = 3,   delta = 1000, n_proc=1 )\n",
    "create_test_sample_works_plan(\"C1W100P5L5M10\", num_of_works=100, num_of_part=5, load=0.5, mul=10, max_time=200, n_problems = 3,   delta = 1000, n_proc=1 )\n",
    "create_test_sample_works_plan(\"C1W500P5L5M10\", num_of_works=500, num_of_part=5, load=0.5, mul=10, max_time=200, n_problems = 3,   delta = 1000, n_proc=1 )\n",
    "create_test_sample_works_plan(\"C1W1000P5L5M10\", num_of_works=1000, num_of_part=5, load=0.5, mul=10, max_time=200, n_problems = 3,   delta = 1000, n_proc=1 )\n",
    "\n",
    "create_test_sample_works_plan(\"C1W10P9L5M10\", num_of_works=10, num_of_part=9, load=0.5, mul=10, max_time=200, n_problems = 3,   delta = 1000, n_proc=1 )\n",
    "create_test_sample_works_plan(\"C1W100P9L5M10\", num_of_works=100, num_of_part=9, load=0.5, mul=10, max_time=200, n_problems = 3,   delta = 1000, n_proc=1 )\n",
    "create_test_sample_works_plan(\"C1W500P9L5M10\", num_of_works=500, num_of_part=9, load=0.5, mul=10, max_time=200, n_problems = 3,   delta = 1000, n_proc=1 )\n",
    "create_test_sample_works_plan(\"C1W1000P9L5M10\", num_of_works=1000, num_of_part=9, load=0.5, mul=10, max_time=200, n_problems = 3,   delta = 1000, n_proc=1 )\n",
    "\n",
    "\n",
    "create_test_sample_works_plan(\"C1W10P3L6M10\", num_of_works=10, num_of_part=3, load=0.6, mul=10, max_time=200, n_problems = 3,   delta = 1000, n_proc=1 )\n",
    "create_test_sample_works_plan(\"C1W100P3L6M10\", num_of_works=100, num_of_part=3, load=0.6, mul=10, max_time=200, n_problems = 3,   delta = 1000, n_proc=1 )\n",
    "create_test_sample_works_plan(\"C1W500P3L6M10\", num_of_works=500, num_of_part=3, load=0.6, mul=10, max_time=200, n_problems = 3,   delta = 1000, n_proc=1 )\n",
    "create_test_sample_works_plan(\"C1W1000P3L6M10\", num_of_works=1000, num_of_part=3, load=0.6, mul=10, max_time=200, n_problems = 3,   delta = 1000, n_proc=1 )\n",
    "\n",
    "create_test_sample_works_plan(\"C1W10P5L6M10\", num_of_works=10, num_of_part=5, load=0.6, mul=10, max_time=200, n_problems = 3,   delta = 1000, n_proc=1 )\n",
    "create_test_sample_works_plan(\"C1W100P5L6M10\", num_of_works=100, num_of_part=5, load=0.6, mul=10, max_time=200, n_problems = 3,   delta = 1000, n_proc=1 )\n",
    "create_test_sample_works_plan(\"C1W500P5L6M10\", num_of_works=500, num_of_part=5, load=0.6, mul=10, max_time=200, n_problems = 3,   delta = 1000, n_proc=1 )\n",
    "create_test_sample_works_plan(\"C1W1000P5L6M10\", num_of_works=1000, num_of_part=5, load=0.6, mul=10, max_time=200, n_problems = 3,   delta = 1000, n_proc=1 )\n",
    "\n",
    "create_test_sample_works_plan(\"C1W10P9L6M10\", num_of_works=10, num_of_part=9, load=0.6, mul=10, max_time=200, n_problems = 3,   delta = 1000, n_proc=1 )\n",
    "create_test_sample_works_plan(\"C1W100P9L6M10\", num_of_works=100, num_of_part=9, load=0.6, mul=10, max_time=200, n_problems = 3,   delta = 1000, n_proc=1 )\n",
    "create_test_sample_works_plan(\"C1W500P9L6M10\", num_of_works=500, num_of_part=9, load=0.6, mul=10, max_time=200, n_problems = 3,   delta = 1000, n_proc=1 )\n",
    "create_test_sample_works_plan(\"C1W1000P9L6M10\", num_of_works=1000, num_of_part=9, load=0.6, mul=10, max_time=200, n_problems = 3,   delta = 1000, n_proc=1 )\n",
    "\n",
    "\n",
    "create_test_sample_works_plan(\"C1W10P3L7M10\", num_of_works=10, num_of_part=3, load=0.7, mul=10, max_time=200, n_problems = 3,   delta = 1000, n_proc=1 )\n",
    "create_test_sample_works_plan(\"C1W100P3L7M10\", num_of_works=100, num_of_part=3, load=0.7, mul=10, max_time=200, n_problems = 3,   delta = 1000, n_proc=1 )\n",
    "create_test_sample_works_plan(\"C1W500P3L7M10\", num_of_works=500, num_of_part=3, load=0.7, mul=10, max_time=200, n_problems = 3,   delta = 1000, n_proc=1 )\n",
    "create_test_sample_works_plan(\"C1W1000P3L7M10\", num_of_works=1000, num_of_part=3, load=0.7, mul=10, max_time=200, n_problems = 3,   delta = 1000, n_proc=1 )\n",
    "\n",
    "create_test_sample_works_plan(\"C1W10P5L7M10\", num_of_works=10, num_of_part=5, load=0.7, mul=10, max_time=200, n_problems = 3,   delta = 1000, n_proc=1 )\n",
    "create_test_sample_works_plan(\"C1W100P5L7M10\", num_of_works=100, num_of_part=5, load=0.7, mul=10, max_time=200, n_problems = 3,   delta = 1000, n_proc=1 )\n",
    "create_test_sample_works_plan(\"C1W500P5L7M10\", num_of_works=500, num_of_part=5, load=0.7, mul=10, max_time=200, n_problems = 3,   delta = 1000, n_proc=1 )\n",
    "create_test_sample_works_plan(\"C1W1000P5L7M10\", num_of_works=1000, num_of_part=5, load=0.7, mul=10, max_time=200, n_problems = 3,   delta = 1000, n_proc=1 )\n",
    "\n",
    "create_test_sample_works_plan(\"C1W10P9L7M10\", num_of_works=10, num_of_part=9, load=0.7, mul=10, max_time=200, n_problems = 3,   delta = 1000, n_proc=1 )\n",
    "create_test_sample_works_plan(\"C1W100P9L7M10\", num_of_works=100, num_of_part=9, load=0.7, mul=10, max_time=200, n_problems = 3,   delta = 1000, n_proc=1 )\n",
    "create_test_sample_works_plan(\"C1W500P9L7M10\", num_of_works=500, num_of_part=9, load=0.7, mul=10, max_time=200, n_problems = 3,   delta = 1000, n_proc=1 )\n",
    "create_test_sample_works_plan(\"C1W1000P9L7M10\", num_of_works=1000, num_of_part=9, load=0.7, mul=10, max_time=200, n_problems = 3,   delta = 1000, n_proc=1 )\n",
    "\n",
    "\n",
    "create_test_sample_works_plan(\"C1W10P3L8M10\", num_of_works=10, num_of_part=3, load=0.8, mul=10, max_time=200, n_problems = 3,   delta = 1000, n_proc=1 )\n",
    "create_test_sample_works_plan(\"C1W100P3L8M10\", num_of_works=100, num_of_part=3, load=0.8, mul=10, max_time=200, n_problems = 3,   delta = 1000, n_proc=1 )\n",
    "create_test_sample_works_plan(\"C1W500P3L8M10\", num_of_works=500, num_of_part=3, load=0.8, mul=10, max_time=200, n_problems = 3,   delta = 1000, n_proc=1 )\n",
    "create_test_sample_works_plan(\"C1W1000P3L8M10\", num_of_works=1000, num_of_part=3, load=0.8, mul=10, max_time=200, n_problems = 3,   delta = 1000, n_proc=1 )\n",
    "\n",
    "create_test_sample_works_plan(\"C1W10P5L8M10\", num_of_works=10, num_of_part=5, load=0.8, mul=10, max_time=200, n_problems = 3,   delta = 1000, n_proc=1 )\n",
    "create_test_sample_works_plan(\"C1W100P5L8M10\", num_of_works=100, num_of_part=5, load=0.8, mul=10, max_time=200, n_problems = 3,   delta = 1000, n_proc=1 )\n",
    "create_test_sample_works_plan(\"C1W500P5L8M10\", num_of_works=500, num_of_part=5, load=0.8, mul=10, max_time=200, n_problems = 3,   delta = 1000, n_proc=1 )\n",
    "create_test_sample_works_plan(\"C1W1000P5L8M10\", num_of_works=1000, num_of_part=5, load=0.8, mul=10, max_time=200, n_problems = 3,   delta = 1000, n_proc=1 )\n",
    "\n",
    "create_test_sample_works_plan(\"C1W10P9L8M10\", num_of_works=10, num_of_part=9, load=0.8, mul=10, max_time=200, n_problems = 3,   delta = 1000, n_proc=1 )\n",
    "create_test_sample_works_plan(\"C1W100P9L8M10\", num_of_works=100, num_of_part=9, load=0.8, mul=10, max_time=200, n_problems = 3,   delta = 1000, n_proc=1 )\n",
    "create_test_sample_works_plan(\"C1W500P9L8M10\", num_of_works=500, num_of_part=9, load=0.8, mul=10, max_time=200, n_problems = 3,   delta = 1000, n_proc=1 )\n",
    "create_test_sample_works_plan(\"C1W1000P9L8M10\", num_of_works=1000, num_of_part=9, load=0.8, mul=10, max_time=200, n_problems = 3,   delta = 1000, n_proc=1 )\n",
    "\n",
    "\n",
    "create_test_sample_works_plan(\"C1W10P3L9M10\", num_of_works=10, num_of_part=3, load=0.9, mul=10, max_time=200, n_problems = 3,   delta = 1000, n_proc=1 )\n",
    "create_test_sample_works_plan(\"C1W100P3L9M10\", num_of_works=100, num_of_part=3, load=0.9, mul=10, max_time=200, n_problems = 3,   delta = 1000, n_proc=1 )\n",
    "create_test_sample_works_plan(\"C1W500P3L9M10\", num_of_works=500, num_of_part=3, load=0.9, mul=10, max_time=200, n_problems = 3,   delta = 1000, n_proc=1 )\n",
    "create_test_sample_works_plan(\"C1W1000P3L9M10\", num_of_works=1000, num_of_part=3, load=0.9, mul=10, max_time=200, n_problems = 3,   delta = 1000, n_proc=1 )\n",
    "\n",
    "create_test_sample_works_plan(\"C1W10P5L9M10\", num_of_works=10, num_of_part=5, load=0.9, mul=10, max_time=200, n_problems = 3,   delta = 1000, n_proc=1 )\n",
    "create_test_sample_works_plan(\"C1W100P5L9M10\", num_of_works=100, num_of_part=5, load=0.9, mul=10, max_time=200, n_problems = 3,   delta = 1000, n_proc=1 )\n",
    "create_test_sample_works_plan(\"C1W500P5L9M10\", num_of_works=500, num_of_part=5, load=0.9, mul=10, max_time=200, n_problems = 3,   delta = 1000, n_proc=1 )\n",
    "create_test_sample_works_plan(\"C1W1000P5L9M10\", num_of_works=1000, num_of_part=5, load=0.9, mul=10, max_time=200, n_problems = 3,   delta = 1000, n_proc=1 )\n",
    "\n",
    "create_test_sample_works_plan(\"C1W10P9L9M10\", num_of_works=10, num_of_part=9, load=0.9, mul=10, max_time=200, n_problems = 3,   delta = 1000, n_proc=1 )\n",
    "create_test_sample_works_plan(\"C1W100P9L9M10\", num_of_works=100, num_of_part=9, load=0.9, mul=10, max_time=200, n_problems = 3,   delta = 1000, n_proc=1 )\n",
    "create_test_sample_works_plan(\"C1W500P9L9M10\", num_of_works=500, num_of_part=9, load=0.9, mul=10, max_time=200, n_problems = 3,   delta = 1000, n_proc=1 )\n",
    "create_test_sample_works_plan(\"C1W1000P9L9M10\", num_of_works=1000, num_of_part=9, load=0.9, mul=10, max_time=200, n_problems = 3,   delta = 1000, n_proc=1 )"
   ]
  },
  {
   "cell_type": "code",
   "execution_count": 65,
   "metadata": {
    "collapsed": false
   },
   "outputs": [
    {
     "data": {
      "text/plain": [
       "'C8W1000P9L9M10/test0.tsv,C8W1000P9L9M10/test1.tsv,C8W1000P9L9M10/test2.tsv,C8W1000P9L9M10/test3.tsv,C8W1000P9L9M10/test4.tsv,'"
      ]
     },
     "execution_count": 65,
     "metadata": {},
     "output_type": "execute_result"
    }
   ],
   "source": [
    "create_test_sample_works_plan(\"C2W100P9L5M10\", num_of_works=100, num_of_part=9, load=0.5, mul=10, max_time=200, n_problems = 5,   delta = 1000, n_proc=2 )\n",
    "create_test_sample_works_plan(\"C2W500P9L5M10\", num_of_works=500, num_of_part=9, load=0.5, mul=10, max_time=200, n_problems = 5,   delta = 1000, n_proc=2 )\n",
    "create_test_sample_works_plan(\"C2W1000P9L5M10\", num_of_works=1000, num_of_part=9, load=0.5, mul=10, max_time=200, n_problems = 5,   delta = 1000, n_proc=2 )\n",
    "create_test_sample_works_plan(\"C3W100P9L5M10\", num_of_works=100, num_of_part=9, load=0.5, mul=10, max_time=200, n_problems = 5,   delta = 1000, n_proc=3 )\n",
    "create_test_sample_works_plan(\"C3W500P9L5M10\", num_of_works=500, num_of_part=9, load=0.5, mul=10, max_time=200, n_problems = 5,   delta = 1000, n_proc=3 )\n",
    "create_test_sample_works_plan(\"C3W1000P9L5M10\", num_of_works=1000, num_of_part=9, load=0.5, mul=10, max_time=200, n_problems = 5,   delta = 1000, n_proc=3 )\n",
    "create_test_sample_works_plan(\"C4W100P9L5M10\", num_of_works=100, num_of_part=9, load=0.5, mul=10, max_time=200, n_problems = 5,   delta = 1000, n_proc=4 )\n",
    "create_test_sample_works_plan(\"C4W500P9L5M10\", num_of_works=500, num_of_part=9, load=0.5, mul=10, max_time=200, n_problems = 5,   delta = 1000, n_proc=4 )\n",
    "create_test_sample_works_plan(\"C4W1000P9L5M10\", num_of_works=1000, num_of_part=9, load=0.5, mul=10, max_time=200, n_problems = 5,   delta = 1000, n_proc=4 )\n",
    "create_test_sample_works_plan(\"C8W100P9L5M10\", num_of_works=100, num_of_part=9, load=0.5, mul=10, max_time=200, n_problems = 5,   delta = 1000, n_proc=8 )\n",
    "create_test_sample_works_plan(\"C8W500P9L5M10\", num_of_works=500, num_of_part=9, load=0.5, mul=10, max_time=200, n_problems = 5,   delta = 1000, n_proc=8 )\n",
    "create_test_sample_works_plan(\"C8W1000P9L5M10\", num_of_works=1000, num_of_part=9, load=0.5, mul=10, max_time=200, n_problems = 5,   delta = 1000, n_proc=8 )\n",
    "\n",
    "\n",
    "create_test_sample_works_plan(\"C2W100P9L6M10\", num_of_works=100, num_of_part=9, load=0.6, mul=10, max_time=200, n_problems = 5,   delta = 1000, n_proc=2 )\n",
    "create_test_sample_works_plan(\"C2W500P9L6M10\", num_of_works=500, num_of_part=9, load=0.6, mul=10, max_time=200, n_problems = 5,   delta = 1000, n_proc=2 )\n",
    "create_test_sample_works_plan(\"C2W1000P9L6M10\", num_of_works=1000, num_of_part=9, load=0.6, mul=10, max_time=200, n_problems = 5,   delta = 1000, n_proc=2 )\n",
    "create_test_sample_works_plan(\"C3W100P9L6M10\", num_of_works=100, num_of_part=9, load=0.6, mul=10, max_time=200, n_problems = 5,   delta = 1000, n_proc=3 )\n",
    "create_test_sample_works_plan(\"C3W500P9L6M10\", num_of_works=500, num_of_part=9, load=0.6, mul=10, max_time=200, n_problems = 5,   delta = 1000, n_proc=3 )\n",
    "create_test_sample_works_plan(\"C3W1000P9L6M10\", num_of_works=1000, num_of_part=9, load=0.6, mul=10, max_time=200, n_problems = 5,   delta = 1000, n_proc=3 )\n",
    "create_test_sample_works_plan(\"C4W100P9L6M10\", num_of_works=100, num_of_part=9, load=0.6, mul=10, max_time=200, n_problems = 5,   delta = 1000, n_proc=4 )\n",
    "create_test_sample_works_plan(\"C4W500P9L6M10\", num_of_works=500, num_of_part=9, load=0.6, mul=10, max_time=200, n_problems = 5,   delta = 1000, n_proc=4 )\n",
    "create_test_sample_works_plan(\"C4W1000P9L6M10\", num_of_works=1000, num_of_part=9, load=0.6, mul=10, max_time=200, n_problems = 5,   delta = 1000, n_proc=4 )\n",
    "create_test_sample_works_plan(\"C8W100P9L6M10\", num_of_works=100, num_of_part=9, load=0.6, mul=10, max_time=200, n_problems = 5,   delta = 1000, n_proc=8 )\n",
    "create_test_sample_works_plan(\"C8W500P9L6M10\", num_of_works=500, num_of_part=9, load=0.6, mul=10, max_time=200, n_problems = 5,   delta = 1000, n_proc=8 )\n",
    "create_test_sample_works_plan(\"C8W1000P9L6M10\", num_of_works=1000, num_of_part=9, load=0.6, mul=10, max_time=200, n_problems = 5,   delta = 1000, n_proc=8 )\n",
    "\n",
    "\n",
    "create_test_sample_works_plan(\"C2W100P9L7M10\", num_of_works=100, num_of_part=9, load=0.7, mul=10, max_time=200, n_problems = 5,   delta = 1000, n_proc=2 )\n",
    "create_test_sample_works_plan(\"C2W500P9L7M10\", num_of_works=500, num_of_part=9, load=0.7, mul=10, max_time=200, n_problems = 5,   delta = 1000, n_proc=2 )\n",
    "create_test_sample_works_plan(\"C2W1000P9L7M10\", num_of_works=1000, num_of_part=9, load=0.7, mul=10, max_time=200, n_problems = 5,   delta = 1000, n_proc=2 )\n",
    "create_test_sample_works_plan(\"C3W100P9L7M10\", num_of_works=100, num_of_part=9, load=0.7, mul=10, max_time=200, n_problems = 5,   delta = 1000, n_proc=3 )\n",
    "create_test_sample_works_plan(\"C3W500P9L7M10\", num_of_works=500, num_of_part=9, load=0.7, mul=10, max_time=200, n_problems = 5,   delta = 1000, n_proc=3 )\n",
    "create_test_sample_works_plan(\"C3W1000P9L7M10\", num_of_works=1000, num_of_part=9, load=0.7, mul=10, max_time=200, n_problems = 5,   delta = 1000, n_proc=3 )\n",
    "create_test_sample_works_plan(\"C4W100P9L7M10\", num_of_works=100, num_of_part=9, load=0.7, mul=10, max_time=200, n_problems = 5,   delta = 1000, n_proc=4 )\n",
    "create_test_sample_works_plan(\"C4W500P9L7M10\", num_of_works=500, num_of_part=9, load=0.7, mul=10, max_time=200, n_problems = 5,   delta = 1000, n_proc=4 )\n",
    "create_test_sample_works_plan(\"C4W1000P9L7M10\", num_of_works=1000, num_of_part=9, load=0.7, mul=10, max_time=200, n_problems = 5,   delta = 1000, n_proc=4 )\n",
    "create_test_sample_works_plan(\"C8W100P9L7M10\", num_of_works=100, num_of_part=9, load=0.7, mul=10, max_time=200, n_problems = 5,   delta = 1000, n_proc=8 )\n",
    "create_test_sample_works_plan(\"C8W500P9L7M10\", num_of_works=500, num_of_part=9, load=0.7, mul=10, max_time=200, n_problems = 5,   delta = 1000, n_proc=8 )\n",
    "create_test_sample_works_plan(\"C8W1000P9L7M10\", num_of_works=1000, num_of_part=9, load=0.7, mul=10, max_time=200, n_problems = 5,   delta = 1000, n_proc=8 )\n",
    "\n",
    "\n",
    "create_test_sample_works_plan(\"C2W100P9L8M10\", num_of_works=100, num_of_part=9, load=0.8, mul=10, max_time=200, n_problems = 5,   delta = 1000, n_proc=2 )\n",
    "create_test_sample_works_plan(\"C2W500P9L8M10\", num_of_works=500, num_of_part=9, load=0.8, mul=10, max_time=200, n_problems = 5,   delta = 1000, n_proc=2 )\n",
    "create_test_sample_works_plan(\"C2W1000P9L8M10\", num_of_works=1000, num_of_part=9, load=0.8, mul=10, max_time=200, n_problems = 5,   delta = 1000, n_proc=2 )\n",
    "create_test_sample_works_plan(\"C3W100P9L8M10\", num_of_works=100, num_of_part=9, load=0.8, mul=10, max_time=200, n_problems = 5,   delta = 1000, n_proc=3 )\n",
    "create_test_sample_works_plan(\"C3W500P9L8M10\", num_of_works=500, num_of_part=9, load=0.8, mul=10, max_time=200, n_problems = 5,   delta = 1000, n_proc=3 )\n",
    "create_test_sample_works_plan(\"C3W1000P9L8M10\", num_of_works=1000, num_of_part=9, load=0.8, mul=10, max_time=200, n_problems = 5,   delta = 1000, n_proc=3 )\n",
    "create_test_sample_works_plan(\"C4W100P9L8M10\", num_of_works=100, num_of_part=9, load=0.8, mul=10, max_time=200, n_problems = 5,   delta = 1000, n_proc=4 )\n",
    "create_test_sample_works_plan(\"C4W500P9L8M10\", num_of_works=500, num_of_part=9, load=0.8, mul=10, max_time=200, n_problems = 5,   delta = 1000, n_proc=4 )\n",
    "create_test_sample_works_plan(\"C4W1000P9L8M10\", num_of_works=1000, num_of_part=9, load=0.8, mul=10, max_time=200, n_problems = 5,   delta = 1000, n_proc=4 )\n",
    "create_test_sample_works_plan(\"C8W100P9L8M10\", num_of_works=100, num_of_part=9, load=0.8, mul=10, max_time=200, n_problems = 5,   delta = 1000, n_proc=8 )\n",
    "create_test_sample_works_plan(\"C8W500P9L8M10\", num_of_works=500, num_of_part=9, load=0.8, mul=10, max_time=200, n_problems = 5,   delta = 1000, n_proc=8 )\n",
    "create_test_sample_works_plan(\"C8W1000P9L8M10\", num_of_works=1000, num_of_part=9, load=0.8, mul=10, max_time=200, n_problems = 5,   delta = 1000, n_proc=8 )\n",
    "\n",
    "\n",
    "create_test_sample_works_plan(\"C2W100P9L9M10\", num_of_works=100, num_of_part=9, load=0.9, mul=10, max_time=200, n_problems = 5,   delta = 1000, n_proc=2 )\n",
    "create_test_sample_works_plan(\"C2W500P9L9M10\", num_of_works=500, num_of_part=9, load=0.9, mul=10, max_time=200, n_problems = 5,   delta = 1000, n_proc=2 )\n",
    "create_test_sample_works_plan(\"C2W1000P9L9M10\", num_of_works=1000, num_of_part=9, load=0.9, mul=10, max_time=200, n_problems = 5,   delta = 1000, n_proc=2 )\n",
    "create_test_sample_works_plan(\"C3W100P9L9M10\", num_of_works=100, num_of_part=9, load=0.9, mul=10, max_time=200, n_problems = 5,   delta = 1000, n_proc=3 )\n",
    "create_test_sample_works_plan(\"C3W500P9L9M10\", num_of_works=500, num_of_part=9, load=0.9, mul=10, max_time=200, n_problems = 5,   delta = 1000, n_proc=3 )\n",
    "create_test_sample_works_plan(\"C3W1000P9L9M10\", num_of_works=1000, num_of_part=9, load=0.9, mul=10, max_time=200, n_problems = 5,   delta = 1000, n_proc=3 )\n",
    "create_test_sample_works_plan(\"C4W100P9L9M10\", num_of_works=100, num_of_part=9, load=0.9, mul=10, max_time=200, n_problems = 5,   delta = 1000, n_proc=4 )\n",
    "create_test_sample_works_plan(\"C4W500P9L9M10\", num_of_works=500, num_of_part=9, load=0.9, mul=10, max_time=200, n_problems = 5,   delta = 1000, n_proc=4 )\n",
    "create_test_sample_works_plan(\"C4W1000P9L9M10\", num_of_works=1000, num_of_part=9, load=0.9, mul=10, max_time=200, n_problems = 5,   delta = 1000, n_proc=4 )\n",
    "create_test_sample_works_plan(\"C8W100P9L9M10\", num_of_works=100, num_of_part=9, load=0.9, mul=10, max_time=200, n_problems = 5,   delta = 1000, n_proc=8 )\n",
    "create_test_sample_works_plan(\"C8W500P9L9M10\", num_of_works=500, num_of_part=9, load=0.9, mul=10, max_time=200, n_problems = 5,   delta = 1000, n_proc=8 )\n",
    "create_test_sample_works_plan(\"C8W1000P9L9M10\", num_of_works=1000, num_of_part=9, load=0.9, mul=10, max_time=200, n_problems = 5,   delta = 1000, n_proc=8 )\n"
   ]
  },
  {
   "cell_type": "code",
   "execution_count": 55,
   "metadata": {
    "collapsed": true
   },
   "outputs": [],
   "source": [
    "def create_works_random(num_works, num_part, max_time):\n",
    "    '''\n",
    "    равномерное распределение\n",
    "    для работ\n",
    "    \n",
    "    '''\n",
    "    df = pd.DataFrame(columns=['partition', 'runtime', 'start', 'finish'])\n",
    "    for i in range(num_works):\n",
    "        d = np.array([0, 0, 0, 0], dtype=int)\n",
    "        d[0] = np.random.randint(1, num_part + 1)\n",
    "        d[2] = np.random.randint(1, max_time + 1)\n",
    "        d[3] = np.random.randint(d[2], max_time + 1)\n",
    "        d[1] = np.random.randint(d[2], d[3] + 1) - d[2]\n",
    "        df.loc[len(df)] = d\n",
    "    return df"
   ]
  },
  {
   "cell_type": "code",
   "execution_count": 56,
   "metadata": {
    "collapsed": true
   },
   "outputs": [],
   "source": [
    "def create_test_sample_works( DIR, n_problems = 10, part_c = 1, max_time = 10000, tasks_c = 20, time_to_switch = 1):\n",
    "    '''\n",
    "    Создает n_problems файлов с именами testi.tsv, где i - номер задачи\n",
    "    В файл meta.tsv помещается информация об этих задачах\n",
    "    Возвращает строку с именами файлов, записанными через запятую\n",
    "    '''\n",
    "    os.mkdir(DIR)\n",
    "    with open(DIR+'/TEST.txt', 'w') as file_output:\n",
    "        str_ = \"\"\n",
    "        df_f =  pd.DataFrame(columns=['num_tasks','all_runtime', 'Time', 'num_part', 'load', 'num_of_intervals', 'time_to_switch'])\n",
    "        for x in range(n_problems):\n",
    "            file = DIR+\"/test\" + str(x) + \".tsv\"\n",
    "            file_output.write(file+' '+str(time_to_switch)+'\\n');\n",
    "            str_ += file + \",\"\n",
    "            df = create_works_random(tasks_c, part_c, max_time)\n",
    "            df.to_csv(file, sep =\"\\t\")\n",
    "\n",
    "            features = find_features_works(df)       \n",
    "            node = np.empty((len(features))+1)\n",
    "            for i in range(len(features)):\n",
    "                node[i] = features[i]\n",
    "            node[len(features)] = time_to_switch\n",
    "            df_f.loc[len(df_f)] = node \n",
    "        \n",
    "    df_f.to_csv(DIR+\"/meta.tsv\", sep=\"\\t\")\n",
    "    return str_  "
   ]
  },
  {
   "cell_type": "code",
   "execution_count": 60,
   "metadata": {
    "collapsed": false
   },
   "outputs": [
    {
     "name": "stdout",
     "output_type": "stream",
     "text": [
      "Num of partitions:  3\n",
      "All_runtime:  37704.0\n",
      "All time:  9922.0\n",
      "Load:  3.80004031445\n",
      "Число интервалов:  40\n",
      "Num of partitions:  3\n",
      "All_runtime:  31070.0\n",
      "All time:  9621.0\n",
      "Load:  3.22939403388\n",
      "Число интервалов:  40\n",
      "Num of partitions:  3\n",
      "All_runtime:  28357.0\n",
      "All time:  9618.0\n",
      "Load:  2.94832605531\n",
      "Число интервалов:  40\n",
      "Num of partitions:  3\n",
      "All_runtime:  20474.0\n",
      "All time:  9984.0\n",
      "Load:  2.05068108974\n",
      "Число интервалов:  40\n",
      "Num of partitions:  3\n",
      "All_runtime:  31650.0\n",
      "All time:  9851.0\n",
      "Load:  3.21287178967\n",
      "Число интервалов:  40\n",
      "Num of partitions:  3\n",
      "All_runtime:  24815.0\n",
      "All time:  9945.0\n",
      "Load:  2.49522373052\n",
      "Число интервалов:  40\n",
      "Num of partitions:  3\n",
      "All_runtime:  15283.0\n",
      "All time:  9995.0\n",
      "Load:  1.52906453227\n",
      "Число интервалов:  39\n",
      "Num of partitions:  3\n",
      "All_runtime:  26803.0\n",
      "All time:  9959.0\n",
      "Load:  2.69133447133\n",
      "Число интервалов:  40\n",
      "Num of partitions:  3\n",
      "All_runtime:  28585.0\n",
      "All time:  9872.0\n",
      "Load:  2.89556320908\n",
      "Число интервалов:  40\n",
      "Num of partitions:  3\n",
      "All_runtime:  30953.0\n",
      "All time:  9798.0\n",
      "Load:  3.15911410492\n",
      "Число интервалов:  40\n"
     ]
    },
    {
     "data": {
      "text/plain": [
       "'TestXXXII/test0.tsv,TestXXXII/test1.tsv,TestXXXII/test2.tsv,TestXXXII/test3.tsv,TestXXXII/test4.tsv,TestXXXII/test5.tsv,TestXXXII/test6.tsv,TestXXXII/test7.tsv,TestXXXII/test8.tsv,TestXXXII/test9.tsv,'"
      ]
     },
     "execution_count": 60,
     "metadata": {},
     "output_type": "execute_result"
    }
   ],
   "source": [
    "create_test_sample_works(\"TestXXXII\", part_c=3)"
   ]
  },
  {
   "cell_type": "markdown",
   "metadata": {},
   "source": [
    "# Обработка решения"
   ]
  },
  {
   "cell_type": "code",
   "execution_count": 55,
   "metadata": {
    "collapsed": true
   },
   "outputs": [],
   "source": [
    "def get_time_perfomance(file):\n",
    "    time = 0.\n",
    "    perfomance = 0.\n",
    "    with open(file, 'r') as f:\n",
    "        str_ = f.readline();\n",
    "        time = float(str_.split(' ')[1])\n",
    "        str_ = f.readline();\n",
    "        #c = float(str_.split(' ')[1])\n",
    "        str_ = f.readline();\n",
    "        perfomance = float(str_.split(' ')[1])\n",
    "    return time, perfomance"
   ]
  },
  {
   "cell_type": "code",
   "execution_count": 56,
   "metadata": {
    "collapsed": false
   },
   "outputs": [],
   "source": [
    "def result_to_df(files):\n",
    "    df = pd.DataFrame(columns=['Time_alg','Effectiveness'])\n",
    "    for file in files:\n",
    "        node = np.array([0,0], dtype=float)\n",
    "        node[0], node[1] = get_time_perfomance(file)\n",
    "        df.loc[len(df)] = node\n",
    "    return df"
   ]
  },
  {
   "cell_type": "code",
   "execution_count": 57,
   "metadata": {
    "collapsed": false,
    "scrolled": true
   },
   "outputs": [],
   "source": [
    "def get_files(testname):\n",
    "    files = []\n",
    "    with open(testname+\"/TEST.txt\", 'r') as f:\n",
    "        for _str in f:\n",
    "            file = _str.split(' ')[0]\n",
    "            file = file.split('.')[0]\n",
    "            file += \".res.txt\"\n",
    "            file = file.split('/')[1]\n",
    "            file = testname +'/'+ file\n",
    "            files.append(file)\n",
    "    return files\n",
    "        "
   ]
  },
  {
   "cell_type": "code",
   "execution_count": 58,
   "metadata": {
    "collapsed": true
   },
   "outputs": [],
   "source": [
    "def create_result(testname, is_print = False):\n",
    "    files = get_files(testname)\n",
    "    df_res = result_to_df(files)\n",
    "    df_meta = pd.read_csv(testname+\"/meta.tsv\", sep='\\t')\n",
    "    df = pd.concat([df_res, df_meta], axis=1)\n",
    "    df = df.drop('Unnamed: 0', axis=1)\n",
    "    df.to_csv(testname+\"/result.tsv\", sep=\"\\t\")\n",
    "    if is_print:\n",
    "        print(df)\n",
    "        "
   ]
  },
  {
   "cell_type": "code",
   "execution_count": 38,
   "metadata": {
    "collapsed": false,
    "scrolled": true
   },
   "outputs": [
    {
     "name": "stdout",
     "output_type": "stream",
     "text": [
      "   Time_alg  Effectiveness  all_runtime     Time  num_part      load  \\\n",
      "0    11.936       0.632378       2304.0   2100.0       8.0  1.097143   \n",
      "1   542.642       0.864209      19832.0  25200.0       8.0  0.786984   \n",
      "2     7.287       0.681264       1804.0   1800.0       8.0  1.002222   \n",
      "3   111.193       0.786177       8189.0   8400.0       7.0  0.974881   \n",
      "4   102.089       0.761645       8265.0   8400.0       6.0  0.983929   \n",
      "5   230.388       0.731789      11394.0  12600.0       7.0  0.904286   \n",
      "6     7.690       0.679660       2001.0   1800.0       7.0  1.111667   \n",
      "7    14.056       0.699711       2421.0   2520.0       7.0  0.960714   \n",
      "8   692.823       0.705290      27824.0  25200.0       6.0  1.104127   \n",
      "9    17.244       0.808351       3856.0   4200.0       6.0  0.918095   \n",
      "\n",
      "   num_of_intervals  \n",
      "0             210.0  \n",
      "1            2520.0  \n",
      "2             180.0  \n",
      "3             840.0  \n",
      "4             840.0  \n",
      "5            1260.0  \n",
      "6             180.0  \n",
      "7             252.0  \n",
      "8            2520.0  \n",
      "9             420.0  \n"
     ]
    }
   ],
   "source": [
    "create_result('H:/GIT/Diplom/Prog_mul/debug/test1', True)"
   ]
  },
  {
   "cell_type": "code",
   "execution_count": 66,
   "metadata": {
    "collapsed": true
   },
   "outputs": [],
   "source": [
    "create_result('H:/GIT/Diplom/Prog_mul/debug/C1W10P3L5M10', False)\n",
    "create_result('H:/GIT/Diplom/Prog_mul/debug/C1W100P3L5M10', False)\n",
    "create_result('H:/GIT/Diplom/Prog_mul/debug/C1W500P3L5M10', False)\n",
    "create_result('H:/GIT/Diplom/Prog_mul/debug/C1W1000P3L5M10', False)\n",
    "create_result('H:/GIT/Diplom/Prog_mul/debug/C1W10P5L5M10', False)\n",
    "create_result('H:/GIT/Diplom/Prog_mul/debug/C1W100P5L5M10', False)\n",
    "create_result('H:/GIT/Diplom/Prog_mul/debug/C1W500P5L5M10', False)\n",
    "create_result('H:/GIT/Diplom/Prog_mul/debug/C1W1000P5L5M10', False)\n",
    "create_result('H:/GIT/Diplom/Prog_mul/debug/C1W10P9L5M10', False)\n",
    "create_result('H:/GIT/Diplom/Prog_mul/debug/C1W100P9L5M10', False)\n",
    "create_result('H:/GIT/Diplom/Prog_mul/debug/C1W500P9L5M10', False)\n",
    "create_result('H:/GIT/Diplom/Prog_mul/debug/C1W1000P9L5M10', False)\n",
    "create_result('H:/GIT/Diplom/Prog_mul/debug/C1W10P3L6M10', False)\n",
    "create_result('H:/GIT/Diplom/Prog_mul/debug/C1W100P3L6M10', False)\n",
    "create_result('H:/GIT/Diplom/Prog_mul/debug/C1W500P3L6M10', False)\n",
    "create_result('H:/GIT/Diplom/Prog_mul/debug/C1W1000P3L6M10', False)\n",
    "create_result('H:/GIT/Diplom/Prog_mul/debug/C1W10P5L6M10', False)\n",
    "create_result('H:/GIT/Diplom/Prog_mul/debug/C1W100P5L6M10', False)\n",
    "create_result('H:/GIT/Diplom/Prog_mul/debug/C1W500P5L6M10', False)\n",
    "create_result('H:/GIT/Diplom/Prog_mul/debug/C1W1000P5L6M10', False)\n",
    "create_result('H:/GIT/Diplom/Prog_mul/debug/C1W10P9L6M10', False)\n",
    "create_result('H:/GIT/Diplom/Prog_mul/debug/C1W100P9L6M10', False)\n",
    "create_result('H:/GIT/Diplom/Prog_mul/debug/C1W500P9L6M10', False)\n",
    "create_result('H:/GIT/Diplom/Prog_mul/debug/C1W1000P9L6M10', False)\n",
    "create_result('H:/GIT/Diplom/Prog_mul/debug/C1W10P3L7M10', False)\n",
    "create_result('H:/GIT/Diplom/Prog_mul/debug/C1W100P3L7M10', False)\n",
    "create_result('H:/GIT/Diplom/Prog_mul/debug/C1W500P3L7M10', False)\n",
    "create_result('H:/GIT/Diplom/Prog_mul/debug/C1W1000P3L7M10', False)\n",
    "create_result('H:/GIT/Diplom/Prog_mul/debug/C1W10P5L7M10', False)\n",
    "create_result('H:/GIT/Diplom/Prog_mul/debug/C1W100P5L7M10', False)\n",
    "create_result('H:/GIT/Diplom/Prog_mul/debug/C1W500P5L7M10', False)\n",
    "create_result('H:/GIT/Diplom/Prog_mul/debug/C1W1000P5L7M10', False)\n",
    "create_result('H:/GIT/Diplom/Prog_mul/debug/C1W10P9L7M10', False)\n",
    "create_result('H:/GIT/Diplom/Prog_mul/debug/C1W100P9L7M10', False)\n",
    "create_result('H:/GIT/Diplom/Prog_mul/debug/C1W500P9L7M10', False)\n",
    "create_result('H:/GIT/Diplom/Prog_mul/debug/C1W1000P9L7M10', False)\n",
    "create_result('H:/GIT/Diplom/Prog_mul/debug/C1W10P3L8M10', False)\n",
    "create_result('H:/GIT/Diplom/Prog_mul/debug/C1W100P3L8M10', False)\n",
    "create_result('H:/GIT/Diplom/Prog_mul/debug/C1W500P3L8M10', False)\n",
    "create_result('H:/GIT/Diplom/Prog_mul/debug/C1W1000P3L8M10', False)\n",
    "create_result('H:/GIT/Diplom/Prog_mul/debug/C1W10P5L8M10', False)\n",
    "create_result('H:/GIT/Diplom/Prog_mul/debug/C1W100P5L8M10', False)\n",
    "create_result('H:/GIT/Diplom/Prog_mul/debug/C1W500P5L8M10', False)\n",
    "create_result('H:/GIT/Diplom/Prog_mul/debug/C1W1000P5L8M10', False)\n",
    "create_result('H:/GIT/Diplom/Prog_mul/debug/C1W10P9L8M10', False)\n",
    "create_result('H:/GIT/Diplom/Prog_mul/debug/C1W100P9L8M10', False)\n",
    "create_result('H:/GIT/Diplom/Prog_mul/debug/C1W500P9L8M10', False)\n",
    "create_result('H:/GIT/Diplom/Prog_mul/debug/C1W1000P9L8M10', False)\n",
    "create_result('H:/GIT/Diplom/Prog_mul/debug/C1W10P3L9M10', False)\n",
    "create_result('H:/GIT/Diplom/Prog_mul/debug/C1W100P3L9M10', False)\n",
    "create_result('H:/GIT/Diplom/Prog_mul/debug/C1W500P3L9M10', False)\n",
    "create_result('H:/GIT/Diplom/Prog_mul/debug/C1W1000P3L9M10', False)\n",
    "create_result('H:/GIT/Diplom/Prog_mul/debug/C1W10P5L9M10', False)\n",
    "create_result('H:/GIT/Diplom/Prog_mul/debug/C1W100P5L9M10', False)\n",
    "create_result('H:/GIT/Diplom/Prog_mul/debug/C1W500P5L9M10', False)\n",
    "create_result('H:/GIT/Diplom/Prog_mul/debug/C1W1000P5L9M10', False)\n",
    "create_result('H:/GIT/Diplom/Prog_mul/debug/C1W10P9L9M10', False)\n",
    "create_result('H:/GIT/Diplom/Prog_mul/debug/C1W100P9L9M10', False)\n",
    "create_result('H:/GIT/Diplom/Prog_mul/debug/C1W500P9L9M10', False)\n",
    "create_result('H:/GIT/Diplom/Prog_mul/debug/C1W1000P9L9M10', False)"
   ]
  },
  {
   "cell_type": "code",
   "execution_count": 80,
   "metadata": {
    "collapsed": false
   },
   "outputs": [
    {
     "ename": "FileNotFoundError",
     "evalue": "[Errno 2] No such file or directory: 'H:/GIT/Diplom/Prog_mul/debug/C8W1000P9L8M10/test1.res.txt'",
     "output_type": "error",
     "traceback": [
      "\u001b[0;31m---------------------------------------------------------------------------\u001b[0m",
      "\u001b[0;31mFileNotFoundError\u001b[0m                         Traceback (most recent call last)",
      "\u001b[0;32m<ipython-input-80-cdab64980209>\u001b[0m in \u001b[0;36m<module>\u001b[0;34m()\u001b[0m\n\u001b[1;32m     46\u001b[0m \u001b[0mcreate_result\u001b[0m\u001b[1;33m(\u001b[0m\u001b[1;34m'H:/GIT/Diplom/Prog_mul/debug/C8W100P9L8M10'\u001b[0m\u001b[1;33m,\u001b[0m \u001b[1;32mFalse\u001b[0m\u001b[1;33m)\u001b[0m\u001b[1;33m\u001b[0m\u001b[0m\n\u001b[1;32m     47\u001b[0m \u001b[0mcreate_result\u001b[0m\u001b[1;33m(\u001b[0m\u001b[1;34m'H:/GIT/Diplom/Prog_mul/debug/C8W500P9L8M10'\u001b[0m\u001b[1;33m,\u001b[0m \u001b[1;32mFalse\u001b[0m\u001b[1;33m)\u001b[0m\u001b[1;33m\u001b[0m\u001b[0m\n\u001b[0;32m---> 48\u001b[0;31m \u001b[0mcreate_result\u001b[0m\u001b[1;33m(\u001b[0m\u001b[1;34m'H:/GIT/Diplom/Prog_mul/debug/C8W1000P9L8M10'\u001b[0m\u001b[1;33m,\u001b[0m \u001b[1;32mFalse\u001b[0m\u001b[1;33m)\u001b[0m\u001b[1;33m\u001b[0m\u001b[0m\n\u001b[0m\u001b[1;32m     49\u001b[0m \u001b[0mcreate_result\u001b[0m\u001b[1;33m(\u001b[0m\u001b[1;34m'H:/GIT/Diplom/Prog_mul/debug/C2W100P9L9M10'\u001b[0m\u001b[1;33m,\u001b[0m \u001b[1;32mFalse\u001b[0m\u001b[1;33m)\u001b[0m\u001b[1;33m\u001b[0m\u001b[0m\n\u001b[1;32m     50\u001b[0m \u001b[0mcreate_result\u001b[0m\u001b[1;33m(\u001b[0m\u001b[1;34m'H:/GIT/Diplom/Prog_mul/debug/C2W500P9L9M10'\u001b[0m\u001b[1;33m,\u001b[0m \u001b[1;32mFalse\u001b[0m\u001b[1;33m)\u001b[0m\u001b[1;33m\u001b[0m\u001b[0m\n",
      "\u001b[0;32m<ipython-input-58-cd3970563cc0>\u001b[0m in \u001b[0;36mcreate_result\u001b[0;34m(testname, is_print)\u001b[0m\n\u001b[1;32m      1\u001b[0m \u001b[1;32mdef\u001b[0m \u001b[0mcreate_result\u001b[0m\u001b[1;33m(\u001b[0m\u001b[0mtestname\u001b[0m\u001b[1;33m,\u001b[0m \u001b[0mis_print\u001b[0m \u001b[1;33m=\u001b[0m \u001b[1;32mFalse\u001b[0m\u001b[1;33m)\u001b[0m\u001b[1;33m:\u001b[0m\u001b[1;33m\u001b[0m\u001b[0m\n\u001b[1;32m      2\u001b[0m     \u001b[0mfiles\u001b[0m \u001b[1;33m=\u001b[0m \u001b[0mget_files\u001b[0m\u001b[1;33m(\u001b[0m\u001b[0mtestname\u001b[0m\u001b[1;33m)\u001b[0m\u001b[1;33m\u001b[0m\u001b[0m\n\u001b[0;32m----> 3\u001b[0;31m     \u001b[0mdf_res\u001b[0m \u001b[1;33m=\u001b[0m \u001b[0mresult_to_df\u001b[0m\u001b[1;33m(\u001b[0m\u001b[0mfiles\u001b[0m\u001b[1;33m)\u001b[0m\u001b[1;33m\u001b[0m\u001b[0m\n\u001b[0m\u001b[1;32m      4\u001b[0m     \u001b[0mdf_meta\u001b[0m \u001b[1;33m=\u001b[0m \u001b[0mpd\u001b[0m\u001b[1;33m.\u001b[0m\u001b[0mread_csv\u001b[0m\u001b[1;33m(\u001b[0m\u001b[0mtestname\u001b[0m\u001b[1;33m+\u001b[0m\u001b[1;34m\"/meta.tsv\"\u001b[0m\u001b[1;33m,\u001b[0m \u001b[0msep\u001b[0m\u001b[1;33m=\u001b[0m\u001b[1;34m'\\t'\u001b[0m\u001b[1;33m)\u001b[0m\u001b[1;33m\u001b[0m\u001b[0m\n\u001b[1;32m      5\u001b[0m     \u001b[0mdf\u001b[0m \u001b[1;33m=\u001b[0m \u001b[0mpd\u001b[0m\u001b[1;33m.\u001b[0m\u001b[0mconcat\u001b[0m\u001b[1;33m(\u001b[0m\u001b[1;33m[\u001b[0m\u001b[0mdf_res\u001b[0m\u001b[1;33m,\u001b[0m \u001b[0mdf_meta\u001b[0m\u001b[1;33m]\u001b[0m\u001b[1;33m,\u001b[0m \u001b[0maxis\u001b[0m\u001b[1;33m=\u001b[0m\u001b[1;36m1\u001b[0m\u001b[1;33m)\u001b[0m\u001b[1;33m\u001b[0m\u001b[0m\n",
      "\u001b[0;32m<ipython-input-56-5186009f6581>\u001b[0m in \u001b[0;36mresult_to_df\u001b[0;34m(files)\u001b[0m\n\u001b[1;32m      3\u001b[0m     \u001b[1;32mfor\u001b[0m \u001b[0mfile\u001b[0m \u001b[1;32min\u001b[0m \u001b[0mfiles\u001b[0m\u001b[1;33m:\u001b[0m\u001b[1;33m\u001b[0m\u001b[0m\n\u001b[1;32m      4\u001b[0m         \u001b[0mnode\u001b[0m \u001b[1;33m=\u001b[0m \u001b[0mnp\u001b[0m\u001b[1;33m.\u001b[0m\u001b[0marray\u001b[0m\u001b[1;33m(\u001b[0m\u001b[1;33m[\u001b[0m\u001b[1;36m0\u001b[0m\u001b[1;33m,\u001b[0m\u001b[1;36m0\u001b[0m\u001b[1;33m]\u001b[0m\u001b[1;33m,\u001b[0m \u001b[0mdtype\u001b[0m\u001b[1;33m=\u001b[0m\u001b[0mfloat\u001b[0m\u001b[1;33m)\u001b[0m\u001b[1;33m\u001b[0m\u001b[0m\n\u001b[0;32m----> 5\u001b[0;31m         \u001b[0mnode\u001b[0m\u001b[1;33m[\u001b[0m\u001b[1;36m0\u001b[0m\u001b[1;33m]\u001b[0m\u001b[1;33m,\u001b[0m \u001b[0mnode\u001b[0m\u001b[1;33m[\u001b[0m\u001b[1;36m1\u001b[0m\u001b[1;33m]\u001b[0m \u001b[1;33m=\u001b[0m \u001b[0mget_time_perfomance\u001b[0m\u001b[1;33m(\u001b[0m\u001b[0mfile\u001b[0m\u001b[1;33m)\u001b[0m\u001b[1;33m\u001b[0m\u001b[0m\n\u001b[0m\u001b[1;32m      6\u001b[0m         \u001b[0mdf\u001b[0m\u001b[1;33m.\u001b[0m\u001b[0mloc\u001b[0m\u001b[1;33m[\u001b[0m\u001b[0mlen\u001b[0m\u001b[1;33m(\u001b[0m\u001b[0mdf\u001b[0m\u001b[1;33m)\u001b[0m\u001b[1;33m]\u001b[0m \u001b[1;33m=\u001b[0m \u001b[0mnode\u001b[0m\u001b[1;33m\u001b[0m\u001b[0m\n\u001b[1;32m      7\u001b[0m     \u001b[1;32mreturn\u001b[0m \u001b[0mdf\u001b[0m\u001b[1;33m\u001b[0m\u001b[0m\n",
      "\u001b[0;32m<ipython-input-55-40a8abe2fb9b>\u001b[0m in \u001b[0;36mget_time_perfomance\u001b[0;34m(file)\u001b[0m\n\u001b[1;32m      2\u001b[0m     \u001b[0mtime\u001b[0m \u001b[1;33m=\u001b[0m \u001b[1;36m0.\u001b[0m\u001b[1;33m\u001b[0m\u001b[0m\n\u001b[1;32m      3\u001b[0m     \u001b[0mperfomance\u001b[0m \u001b[1;33m=\u001b[0m \u001b[1;36m0.\u001b[0m\u001b[1;33m\u001b[0m\u001b[0m\n\u001b[0;32m----> 4\u001b[0;31m     \u001b[1;32mwith\u001b[0m \u001b[0mopen\u001b[0m\u001b[1;33m(\u001b[0m\u001b[0mfile\u001b[0m\u001b[1;33m,\u001b[0m \u001b[1;34m'r'\u001b[0m\u001b[1;33m)\u001b[0m \u001b[1;32mas\u001b[0m \u001b[0mf\u001b[0m\u001b[1;33m:\u001b[0m\u001b[1;33m\u001b[0m\u001b[0m\n\u001b[0m\u001b[1;32m      5\u001b[0m         \u001b[0mstr_\u001b[0m \u001b[1;33m=\u001b[0m \u001b[0mf\u001b[0m\u001b[1;33m.\u001b[0m\u001b[0mreadline\u001b[0m\u001b[1;33m(\u001b[0m\u001b[1;33m)\u001b[0m\u001b[1;33m;\u001b[0m\u001b[1;33m\u001b[0m\u001b[0m\n\u001b[1;32m      6\u001b[0m         \u001b[0mtime\u001b[0m \u001b[1;33m=\u001b[0m \u001b[0mfloat\u001b[0m\u001b[1;33m(\u001b[0m\u001b[0mstr_\u001b[0m\u001b[1;33m.\u001b[0m\u001b[0msplit\u001b[0m\u001b[1;33m(\u001b[0m\u001b[1;34m' '\u001b[0m\u001b[1;33m)\u001b[0m\u001b[1;33m[\u001b[0m\u001b[1;36m1\u001b[0m\u001b[1;33m]\u001b[0m\u001b[1;33m)\u001b[0m\u001b[1;33m\u001b[0m\u001b[0m\n",
      "\u001b[0;31mFileNotFoundError\u001b[0m: [Errno 2] No such file or directory: 'H:/GIT/Diplom/Prog_mul/debug/C8W1000P9L8M10/test1.res.txt'"
     ]
    }
   ],
   "source": [
    "create_result('H:/GIT/Diplom/Prog_mul/debug/C2W100P9L5M10', False)\n",
    "create_result('H:/GIT/Diplom/Prog_mul/debug/C2W500P9L5M10', False)\n",
    "create_result('H:/GIT/Diplom/Prog_mul/debug/C2W1000P9L5M10', False)\n",
    "create_result('H:/GIT/Diplom/Prog_mul/debug/C3W100P9L5M10', False)\n",
    "create_result('H:/GIT/Diplom/Prog_mul/debug/C3W500P9L5M10', False)\n",
    "create_result('H:/GIT/Diplom/Prog_mul/debug/C3W1000P9L5M10', False)\n",
    "create_result('H:/GIT/Diplom/Prog_mul/debug/C4W100P9L5M10', False)\n",
    "create_result('H:/GIT/Diplom/Prog_mul/debug/C4W500P9L5M10', False)\n",
    "create_result('H:/GIT/Diplom/Prog_mul/debug/C4W1000P9L5M10', False)\n",
    "create_result('H:/GIT/Diplom/Prog_mul/debug/C8W100P9L5M10', False)\n",
    "create_result('H:/GIT/Diplom/Prog_mul/debug/C8W500P9L5M10', False)\n",
    "create_result('H:/GIT/Diplom/Prog_mul/debug/C8W1000P9L5M10', False)\n",
    "create_result('H:/GIT/Diplom/Prog_mul/debug/C2W100P9L6M10', False)\n",
    "create_result('H:/GIT/Diplom/Prog_mul/debug/C2W500P9L6M10', False)\n",
    "create_result('H:/GIT/Diplom/Prog_mul/debug/C2W1000P9L6M10', False)\n",
    "create_result('H:/GIT/Diplom/Prog_mul/debug/C3W100P9L6M10', False)\n",
    "create_result('H:/GIT/Diplom/Prog_mul/debug/C3W500P9L6M10', False)\n",
    "create_result('H:/GIT/Diplom/Prog_mul/debug/C3W1000P9L6M10', False)\n",
    "create_result('H:/GIT/Diplom/Prog_mul/debug/C4W100P9L6M10', False)\n",
    "create_result('H:/GIT/Diplom/Prog_mul/debug/C4W500P9L6M10', False)\n",
    "create_result('H:/GIT/Diplom/Prog_mul/debug/C4W1000P9L6M10', False)\n",
    "create_result('H:/GIT/Diplom/Prog_mul/debug/C8W100P9L6M10', False)\n",
    "create_result('H:/GIT/Diplom/Prog_mul/debug/C8W500P9L6M10', False)\n",
    "create_result('H:/GIT/Diplom/Prog_mul/debug/C8W1000P9L6M10', False)\n",
    "create_result('H:/GIT/Diplom/Prog_mul/debug/C2W100P9L7M10', False)\n",
    "create_result('H:/GIT/Diplom/Prog_mul/debug/C2W500P9L7M10', False)\n",
    "create_result('H:/GIT/Diplom/Prog_mul/debug/C2W1000P9L7M10', False)\n",
    "create_result('H:/GIT/Diplom/Prog_mul/debug/C3W100P9L7M10', False)\n",
    "create_result('H:/GIT/Diplom/Prog_mul/debug/C3W500P9L7M10', False)\n",
    "create_result('H:/GIT/Diplom/Prog_mul/debug/C3W1000P9L7M10', False)\n",
    "create_result('H:/GIT/Diplom/Prog_mul/debug/C4W100P9L7M10', False)\n",
    "create_result('H:/GIT/Diplom/Prog_mul/debug/C4W500P9L7M10', False)\n",
    "create_result('H:/GIT/Diplom/Prog_mul/debug/C4W1000P9L7M10', False)\n",
    "create_result('H:/GIT/Diplom/Prog_mul/debug/C8W100P9L7M10', False)\n",
    "create_result('H:/GIT/Diplom/Prog_mul/debug/C8W500P9L7M10', False)\n",
    "create_result('H:/GIT/Diplom/Prog_mul/debug/C8W1000P9L7M10', False)\n",
    "#create_result('H:/GIT/Diplom/Prog_mul/debug/C2W100P9L8M10', False)\n",
    "#create_result('H:/GIT/Diplom/Prog_mul/debug/C2W500P9L8M10', False)\n",
    "#create_result('H:/GIT/Diplom/Prog_mul/debug/C2W1000P9L8M10', False)\n",
    "#create_result('H:/GIT/Diplom/Prog_mul/debug/C3W100P9L8M10', False)\n",
    "#create_result('H:/GIT/Diplom/Prog_mul/debug/C3W500P9L8M10', False)\n",
    "#create_result('H:/GIT/Diplom/Prog_mul/debug/C3W1000P9L8M10', False)\n",
    "#create_result('H:/GIT/Diplom/Prog_mul/debug/C4W100P9L8M10', False)\n",
    "#create_result('H:/GIT/Diplom/Prog_mul/debug/C4W500P9L8M10', False)\n",
    "#create_result('H:/GIT/Diplom/Prog_mul/debug/C4W1000P9L8M10', False)\n",
    "#create_result('H:/GIT/Diplom/Prog_mul/debug/C8W100P9L8M10', False)\n",
    "#create_result('H:/GIT/Diplom/Prog_mul/debug/C8W500P9L8M10', False)\n",
    "#create_result('H:/GIT/Diplom/Prog_mul/debug/C8W1000P9L8M10', False)\n",
    "create_result('H:/GIT/Diplom/Prog_mul/debug/C2W100P9L9M10', False)\n",
    "create_result('H:/GIT/Diplom/Prog_mul/debug/C2W500P9L9M10', False)\n",
    "create_result('H:/GIT/Diplom/Prog_mul/debug/C2W1000P9L9M10', False)\n",
    "create_result('H:/GIT/Diplom/Prog_mul/debug/C3W100P9L9M10', False)\n",
    "create_result('H:/GIT/Diplom/Prog_mul/debug/C3W500P9L9M10', False)\n",
    "create_result('H:/GIT/Diplom/Prog_mul/debug/C3W1000P9L9M10', False)\n",
    "create_result('H:/GIT/Diplom/Prog_mul/debug/C4W100P9L9M10', False)\n",
    "create_result('H:/GIT/Diplom/Prog_mul/debug/C4W500P9L9M10', False)\n",
    "create_result('H:/GIT/Diplom/Prog_mul/debug/C4W1000P9L9M10', False)\n",
    "create_result('H:/GIT/Diplom/Prog_mul/debug/C8W100P9L9M10', False)\n",
    "create_result('H:/GIT/Diplom/Prog_mul/debug/C8W500P9L9M10', False)\n",
    "#create_result('H:/GIT/Diplom/Prog_mul/debug/C8W1000P9L9M10', False)"
   ]
  },
  {
   "cell_type": "code",
   "execution_count": 81,
   "metadata": {
    "collapsed": false
   },
   "outputs": [
    {
     "ename": "FileNotFoundError",
     "evalue": "[Errno 2] No such file or directory: 'H:/GIT/Diplom/Prog_mul/debug/C8W100P9L9M10/test0.res.txt'",
     "output_type": "error",
     "traceback": [
      "\u001b[0;31m---------------------------------------------------------------------------\u001b[0m",
      "\u001b[0;31mFileNotFoundError\u001b[0m                         Traceback (most recent call last)",
      "\u001b[0;32m<ipython-input-81-a7b633071a0c>\u001b[0m in \u001b[0;36m<module>\u001b[0;34m()\u001b[0m\n\u001b[1;32m      8\u001b[0m \u001b[0mcreate_result\u001b[0m\u001b[1;33m(\u001b[0m\u001b[1;34m'H:/GIT/Diplom/Prog_mul/debug/C4W500P9L9M10'\u001b[0m\u001b[1;33m,\u001b[0m \u001b[1;32mFalse\u001b[0m\u001b[1;33m)\u001b[0m\u001b[1;33m\u001b[0m\u001b[0m\n\u001b[1;32m      9\u001b[0m \u001b[0mcreate_result\u001b[0m\u001b[1;33m(\u001b[0m\u001b[1;34m'H:/GIT/Diplom/Prog_mul/debug/C4W1000P9L9M10'\u001b[0m\u001b[1;33m,\u001b[0m \u001b[1;32mFalse\u001b[0m\u001b[1;33m)\u001b[0m\u001b[1;33m\u001b[0m\u001b[0m\n\u001b[0;32m---> 10\u001b[0;31m \u001b[0mcreate_result\u001b[0m\u001b[1;33m(\u001b[0m\u001b[1;34m'H:/GIT/Diplom/Prog_mul/debug/C8W100P9L9M10'\u001b[0m\u001b[1;33m,\u001b[0m \u001b[1;32mFalse\u001b[0m\u001b[1;33m)\u001b[0m\u001b[1;33m\u001b[0m\u001b[0m\n\u001b[0m\u001b[1;32m     11\u001b[0m \u001b[0mcreate_result\u001b[0m\u001b[1;33m(\u001b[0m\u001b[1;34m'H:/GIT/Diplom/Prog_mul/debug/C8W500P9L9M10'\u001b[0m\u001b[1;33m,\u001b[0m \u001b[1;32mFalse\u001b[0m\u001b[1;33m)\u001b[0m\u001b[1;33m\u001b[0m\u001b[0m\n",
      "\u001b[0;32m<ipython-input-58-cd3970563cc0>\u001b[0m in \u001b[0;36mcreate_result\u001b[0;34m(testname, is_print)\u001b[0m\n\u001b[1;32m      1\u001b[0m \u001b[1;32mdef\u001b[0m \u001b[0mcreate_result\u001b[0m\u001b[1;33m(\u001b[0m\u001b[0mtestname\u001b[0m\u001b[1;33m,\u001b[0m \u001b[0mis_print\u001b[0m \u001b[1;33m=\u001b[0m \u001b[1;32mFalse\u001b[0m\u001b[1;33m)\u001b[0m\u001b[1;33m:\u001b[0m\u001b[1;33m\u001b[0m\u001b[0m\n\u001b[1;32m      2\u001b[0m     \u001b[0mfiles\u001b[0m \u001b[1;33m=\u001b[0m \u001b[0mget_files\u001b[0m\u001b[1;33m(\u001b[0m\u001b[0mtestname\u001b[0m\u001b[1;33m)\u001b[0m\u001b[1;33m\u001b[0m\u001b[0m\n\u001b[0;32m----> 3\u001b[0;31m     \u001b[0mdf_res\u001b[0m \u001b[1;33m=\u001b[0m \u001b[0mresult_to_df\u001b[0m\u001b[1;33m(\u001b[0m\u001b[0mfiles\u001b[0m\u001b[1;33m)\u001b[0m\u001b[1;33m\u001b[0m\u001b[0m\n\u001b[0m\u001b[1;32m      4\u001b[0m     \u001b[0mdf_meta\u001b[0m \u001b[1;33m=\u001b[0m \u001b[0mpd\u001b[0m\u001b[1;33m.\u001b[0m\u001b[0mread_csv\u001b[0m\u001b[1;33m(\u001b[0m\u001b[0mtestname\u001b[0m\u001b[1;33m+\u001b[0m\u001b[1;34m\"/meta.tsv\"\u001b[0m\u001b[1;33m,\u001b[0m \u001b[0msep\u001b[0m\u001b[1;33m=\u001b[0m\u001b[1;34m'\\t'\u001b[0m\u001b[1;33m)\u001b[0m\u001b[1;33m\u001b[0m\u001b[0m\n\u001b[1;32m      5\u001b[0m     \u001b[0mdf\u001b[0m \u001b[1;33m=\u001b[0m \u001b[0mpd\u001b[0m\u001b[1;33m.\u001b[0m\u001b[0mconcat\u001b[0m\u001b[1;33m(\u001b[0m\u001b[1;33m[\u001b[0m\u001b[0mdf_res\u001b[0m\u001b[1;33m,\u001b[0m \u001b[0mdf_meta\u001b[0m\u001b[1;33m]\u001b[0m\u001b[1;33m,\u001b[0m \u001b[0maxis\u001b[0m\u001b[1;33m=\u001b[0m\u001b[1;36m1\u001b[0m\u001b[1;33m)\u001b[0m\u001b[1;33m\u001b[0m\u001b[0m\n",
      "\u001b[0;32m<ipython-input-56-5186009f6581>\u001b[0m in \u001b[0;36mresult_to_df\u001b[0;34m(files)\u001b[0m\n\u001b[1;32m      3\u001b[0m     \u001b[1;32mfor\u001b[0m \u001b[0mfile\u001b[0m \u001b[1;32min\u001b[0m \u001b[0mfiles\u001b[0m\u001b[1;33m:\u001b[0m\u001b[1;33m\u001b[0m\u001b[0m\n\u001b[1;32m      4\u001b[0m         \u001b[0mnode\u001b[0m \u001b[1;33m=\u001b[0m \u001b[0mnp\u001b[0m\u001b[1;33m.\u001b[0m\u001b[0marray\u001b[0m\u001b[1;33m(\u001b[0m\u001b[1;33m[\u001b[0m\u001b[1;36m0\u001b[0m\u001b[1;33m,\u001b[0m\u001b[1;36m0\u001b[0m\u001b[1;33m]\u001b[0m\u001b[1;33m,\u001b[0m \u001b[0mdtype\u001b[0m\u001b[1;33m=\u001b[0m\u001b[0mfloat\u001b[0m\u001b[1;33m)\u001b[0m\u001b[1;33m\u001b[0m\u001b[0m\n\u001b[0;32m----> 5\u001b[0;31m         \u001b[0mnode\u001b[0m\u001b[1;33m[\u001b[0m\u001b[1;36m0\u001b[0m\u001b[1;33m]\u001b[0m\u001b[1;33m,\u001b[0m \u001b[0mnode\u001b[0m\u001b[1;33m[\u001b[0m\u001b[1;36m1\u001b[0m\u001b[1;33m]\u001b[0m \u001b[1;33m=\u001b[0m \u001b[0mget_time_perfomance\u001b[0m\u001b[1;33m(\u001b[0m\u001b[0mfile\u001b[0m\u001b[1;33m)\u001b[0m\u001b[1;33m\u001b[0m\u001b[0m\n\u001b[0m\u001b[1;32m      6\u001b[0m         \u001b[0mdf\u001b[0m\u001b[1;33m.\u001b[0m\u001b[0mloc\u001b[0m\u001b[1;33m[\u001b[0m\u001b[0mlen\u001b[0m\u001b[1;33m(\u001b[0m\u001b[0mdf\u001b[0m\u001b[1;33m)\u001b[0m\u001b[1;33m]\u001b[0m \u001b[1;33m=\u001b[0m \u001b[0mnode\u001b[0m\u001b[1;33m\u001b[0m\u001b[0m\n\u001b[1;32m      7\u001b[0m     \u001b[1;32mreturn\u001b[0m \u001b[0mdf\u001b[0m\u001b[1;33m\u001b[0m\u001b[0m\n",
      "\u001b[0;32m<ipython-input-55-40a8abe2fb9b>\u001b[0m in \u001b[0;36mget_time_perfomance\u001b[0;34m(file)\u001b[0m\n\u001b[1;32m      2\u001b[0m     \u001b[0mtime\u001b[0m \u001b[1;33m=\u001b[0m \u001b[1;36m0.\u001b[0m\u001b[1;33m\u001b[0m\u001b[0m\n\u001b[1;32m      3\u001b[0m     \u001b[0mperfomance\u001b[0m \u001b[1;33m=\u001b[0m \u001b[1;36m0.\u001b[0m\u001b[1;33m\u001b[0m\u001b[0m\n\u001b[0;32m----> 4\u001b[0;31m     \u001b[1;32mwith\u001b[0m \u001b[0mopen\u001b[0m\u001b[1;33m(\u001b[0m\u001b[0mfile\u001b[0m\u001b[1;33m,\u001b[0m \u001b[1;34m'r'\u001b[0m\u001b[1;33m)\u001b[0m \u001b[1;32mas\u001b[0m \u001b[0mf\u001b[0m\u001b[1;33m:\u001b[0m\u001b[1;33m\u001b[0m\u001b[0m\n\u001b[0m\u001b[1;32m      5\u001b[0m         \u001b[0mstr_\u001b[0m \u001b[1;33m=\u001b[0m \u001b[0mf\u001b[0m\u001b[1;33m.\u001b[0m\u001b[0mreadline\u001b[0m\u001b[1;33m(\u001b[0m\u001b[1;33m)\u001b[0m\u001b[1;33m;\u001b[0m\u001b[1;33m\u001b[0m\u001b[0m\n\u001b[1;32m      6\u001b[0m         \u001b[0mtime\u001b[0m \u001b[1;33m=\u001b[0m \u001b[0mfloat\u001b[0m\u001b[1;33m(\u001b[0m\u001b[0mstr_\u001b[0m\u001b[1;33m.\u001b[0m\u001b[0msplit\u001b[0m\u001b[1;33m(\u001b[0m\u001b[1;34m' '\u001b[0m\u001b[1;33m)\u001b[0m\u001b[1;33m[\u001b[0m\u001b[1;36m1\u001b[0m\u001b[1;33m]\u001b[0m\u001b[1;33m)\u001b[0m\u001b[1;33m\u001b[0m\u001b[0m\n",
      "\u001b[0;31mFileNotFoundError\u001b[0m: [Errno 2] No such file or directory: 'H:/GIT/Diplom/Prog_mul/debug/C8W100P9L9M10/test0.res.txt'"
     ]
    }
   ],
   "source": [
    "create_result('H:/GIT/Diplom/Prog_mul/debug/C2W100P9L9M10', False)\n",
    "create_result('H:/GIT/Diplom/Prog_mul/debug/C2W500P9L9M10', False)\n",
    "create_result('H:/GIT/Diplom/Prog_mul/debug/C2W1000P9L9M10', False)\n",
    "create_result('H:/GIT/Diplom/Prog_mul/debug/C3W100P9L9M10', False)\n",
    "create_result('H:/GIT/Diplom/Prog_mul/debug/C3W500P9L9M10', False)\n",
    "create_result('H:/GIT/Diplom/Prog_mul/debug/C3W1000P9L9M10', False)\n",
    "create_result('H:/GIT/Diplom/Prog_mul/debug/C4W100P9L9M10', False)\n",
    "create_result('H:/GIT/Diplom/Prog_mul/debug/C4W500P9L9M10', False)\n",
    "create_result('H:/GIT/Diplom/Prog_mul/debug/C4W1000P9L9M10', False)\n",
    "create_result('H:/GIT/Diplom/Prog_mul/debug/C8W100P9L9M10', False)\n",
    "create_result('H:/GIT/Diplom/Prog_mul/debug/C8W500P9L9M10', False)"
   ]
  },
  {
   "cell_type": "code",
   "execution_count": 82,
   "metadata": {
    "collapsed": false
   },
   "outputs": [
    {
     "name": "stdout",
     "output_type": "stream",
     "text": [
      "   Time_alg  Effectiveness  num_tasks  all_runtime     Time  num_part  \\\n",
      "0     2.562       0.710723        7.0        401.0    400.0       3.0   \n",
      "1     0.926       1.000000        7.0      18253.0  25200.0       2.0   \n",
      "2     0.423       0.497041        7.0        169.0    180.0       3.0   \n",
      "\n",
      "       load  num_of_intervals  time_to_switch  \n",
      "0  1.002500              40.0             4.0  \n",
      "1  0.724325            1464.0             4.0  \n",
      "2  0.938889              18.0             4.0  \n"
     ]
    }
   ],
   "source": [
    "create_result('Test7', True)"
   ]
  },
  {
   "cell_type": "code",
   "execution_count": 73,
   "metadata": {
    "collapsed": false
   },
   "outputs": [
    {
     "name": "stdout",
     "output_type": "stream",
     "text": [
      "['Test7/test0.res.txt', 'Test7/test1.res.txt', 'Test7/test2.res.txt']\n"
     ]
    }
   ],
   "source": [
    "print( get_files('Test7') )"
   ]
  },
  {
   "cell_type": "code",
   "execution_count": 56,
   "metadata": {
    "collapsed": false
   },
   "outputs": [],
   "source": [
    "df_f = pd.read_csv(\"meta.tsv\", sep=\"\\t\")"
   ]
  },
  {
   "cell_type": "code",
   "execution_count": 57,
   "metadata": {
    "collapsed": false,
    "scrolled": true
   },
   "outputs": [
    {
     "data": {
      "text/html": [
       "<div>\n",
       "<table border=\"1\" class=\"dataframe\">\n",
       "  <thead>\n",
       "    <tr style=\"text-align: right;\">\n",
       "      <th></th>\n",
       "      <th>Time_alg</th>\n",
       "      <th>Effectiveness</th>\n",
       "      <th>num_tasks</th>\n",
       "      <th>all_runtime</th>\n",
       "      <th>Time</th>\n",
       "      <th>num_part</th>\n",
       "      <th>load</th>\n",
       "      <th>num_of_intervals</th>\n",
       "    </tr>\n",
       "  </thead>\n",
       "  <tbody>\n",
       "    <tr>\n",
       "      <th>0</th>\n",
       "      <td>0.446</td>\n",
       "      <td>1.0</td>\n",
       "      <td>13.0</td>\n",
       "      <td>20000.0</td>\n",
       "      <td>25200.0</td>\n",
       "      <td>8.0</td>\n",
       "      <td>0.793651</td>\n",
       "      <td>1656.0</td>\n",
       "    </tr>\n",
       "    <tr>\n",
       "      <th>1</th>\n",
       "      <td>0.004</td>\n",
       "      <td>1.0</td>\n",
       "      <td>13.0</td>\n",
       "      <td>6944.0</td>\n",
       "      <td>8400.0</td>\n",
       "      <td>8.0</td>\n",
       "      <td>0.826667</td>\n",
       "      <td>648.0</td>\n",
       "    </tr>\n",
       "    <tr>\n",
       "      <th>2</th>\n",
       "      <td>1.069</td>\n",
       "      <td>1.0</td>\n",
       "      <td>13.0</td>\n",
       "      <td>12079.0</td>\n",
       "      <td>12600.0</td>\n",
       "      <td>5.0</td>\n",
       "      <td>0.958651</td>\n",
       "      <td>1260.0</td>\n",
       "    </tr>\n",
       "    <tr>\n",
       "      <th>3</th>\n",
       "      <td>0.008</td>\n",
       "      <td>1.0</td>\n",
       "      <td>13.0</td>\n",
       "      <td>4135.0</td>\n",
       "      <td>3600.0</td>\n",
       "      <td>7.0</td>\n",
       "      <td>1.148611</td>\n",
       "      <td>360.0</td>\n",
       "    </tr>\n",
       "    <tr>\n",
       "      <th>4</th>\n",
       "      <td>NaN</td>\n",
       "      <td>NaN</td>\n",
       "      <td>13.0</td>\n",
       "      <td>3410.0</td>\n",
       "      <td>3600.0</td>\n",
       "      <td>8.0</td>\n",
       "      <td>0.947222</td>\n",
       "      <td>264.0</td>\n",
       "    </tr>\n",
       "    <tr>\n",
       "      <th>5</th>\n",
       "      <td>NaN</td>\n",
       "      <td>NaN</td>\n",
       "      <td>13.0</td>\n",
       "      <td>27962.0</td>\n",
       "      <td>25200.0</td>\n",
       "      <td>6.0</td>\n",
       "      <td>1.109603</td>\n",
       "      <td>2520.0</td>\n",
       "    </tr>\n",
       "    <tr>\n",
       "      <th>6</th>\n",
       "      <td>NaN</td>\n",
       "      <td>NaN</td>\n",
       "      <td>13.0</td>\n",
       "      <td>864.0</td>\n",
       "      <td>900.0</td>\n",
       "      <td>5.0</td>\n",
       "      <td>0.960000</td>\n",
       "      <td>90.0</td>\n",
       "    </tr>\n",
       "    <tr>\n",
       "      <th>7</th>\n",
       "      <td>NaN</td>\n",
       "      <td>NaN</td>\n",
       "      <td>13.0</td>\n",
       "      <td>20738.0</td>\n",
       "      <td>25200.0</td>\n",
       "      <td>8.0</td>\n",
       "      <td>0.822937</td>\n",
       "      <td>1944.0</td>\n",
       "    </tr>\n",
       "    <tr>\n",
       "      <th>8</th>\n",
       "      <td>NaN</td>\n",
       "      <td>NaN</td>\n",
       "      <td>13.0</td>\n",
       "      <td>27436.0</td>\n",
       "      <td>25200.0</td>\n",
       "      <td>5.0</td>\n",
       "      <td>1.088730</td>\n",
       "      <td>2520.0</td>\n",
       "    </tr>\n",
       "    <tr>\n",
       "      <th>9</th>\n",
       "      <td>NaN</td>\n",
       "      <td>NaN</td>\n",
       "      <td>13.0</td>\n",
       "      <td>29128.0</td>\n",
       "      <td>25200.0</td>\n",
       "      <td>5.0</td>\n",
       "      <td>1.155873</td>\n",
       "      <td>1944.0</td>\n",
       "    </tr>\n",
       "  </tbody>\n",
       "</table>\n",
       "</div>"
      ],
      "text/plain": [
       "   Time_alg  Effectiveness  num_tasks  all_runtime     Time  num_part  \\\n",
       "0     0.446            1.0       13.0      20000.0  25200.0       8.0   \n",
       "1     0.004            1.0       13.0       6944.0   8400.0       8.0   \n",
       "2     1.069            1.0       13.0      12079.0  12600.0       5.0   \n",
       "3     0.008            1.0       13.0       4135.0   3600.0       7.0   \n",
       "4       NaN            NaN       13.0       3410.0   3600.0       8.0   \n",
       "5       NaN            NaN       13.0      27962.0  25200.0       6.0   \n",
       "6       NaN            NaN       13.0        864.0    900.0       5.0   \n",
       "7       NaN            NaN       13.0      20738.0  25200.0       8.0   \n",
       "8       NaN            NaN       13.0      27436.0  25200.0       5.0   \n",
       "9       NaN            NaN       13.0      29128.0  25200.0       5.0   \n",
       "\n",
       "       load  num_of_intervals  \n",
       "0  0.793651            1656.0  \n",
       "1  0.826667             648.0  \n",
       "2  0.958651            1260.0  \n",
       "3  1.148611             360.0  \n",
       "4  0.947222             264.0  \n",
       "5  1.109603            2520.0  \n",
       "6  0.960000              90.0  \n",
       "7  0.822937            1944.0  \n",
       "8  1.088730            2520.0  \n",
       "9  1.155873            1944.0  "
      ]
     },
     "execution_count": 57,
     "metadata": {},
     "output_type": "execute_result"
    }
   ],
   "source": [
    "df = pd.concat([df_r, df_f], axis=1)\n",
    "df = df.drop('Unnamed: 0', axis=1)\n",
    "df"
   ]
  },
  {
   "cell_type": "code",
   "execution_count": 58,
   "metadata": {
    "collapsed": false
   },
   "outputs": [
    {
     "data": {
      "text/plain": [
       "(10, 8)"
      ]
     },
     "execution_count": 58,
     "metadata": {},
     "output_type": "execute_result"
    }
   ],
   "source": [
    "df.shape\n"
   ]
  },
  {
   "cell_type": "code",
   "execution_count": 59,
   "metadata": {
    "collapsed": true
   },
   "outputs": [],
   "source": [
    "df.to_csv('result.tsv')"
   ]
  },
  {
   "cell_type": "code",
   "execution_count": 60,
   "metadata": {
    "collapsed": false,
    "scrolled": true
   },
   "outputs": [
    {
     "data": {
      "text/html": [
       "<div>\n",
       "<table border=\"1\" class=\"dataframe\">\n",
       "  <thead>\n",
       "    <tr style=\"text-align: right;\">\n",
       "      <th></th>\n",
       "      <th>Unnamed: 0</th>\n",
       "      <th>Time_alg</th>\n",
       "      <th>Effectiveness</th>\n",
       "      <th>num_tasks</th>\n",
       "      <th>all_runtime</th>\n",
       "      <th>Time</th>\n",
       "      <th>num_part</th>\n",
       "      <th>load</th>\n",
       "      <th>num_of_intervals</th>\n",
       "    </tr>\n",
       "  </thead>\n",
       "  <tbody>\n",
       "    <tr>\n",
       "      <th>0</th>\n",
       "      <td>0</td>\n",
       "      <td>0.000</td>\n",
       "      <td>0.975000</td>\n",
       "      <td>3.0</td>\n",
       "      <td>4000.0</td>\n",
       "      <td>4000.0</td>\n",
       "      <td>3.0</td>\n",
       "      <td>1.000000</td>\n",
       "      <td>12.0</td>\n",
       "    </tr>\n",
       "    <tr>\n",
       "      <th>1</th>\n",
       "      <td>1</td>\n",
       "      <td>0.994</td>\n",
       "      <td>0.891383</td>\n",
       "      <td>12.0</td>\n",
       "      <td>27620.0</td>\n",
       "      <td>28000.0</td>\n",
       "      <td>3.0</td>\n",
       "      <td>0.986429</td>\n",
       "      <td>280.0</td>\n",
       "    </tr>\n",
       "    <tr>\n",
       "      <th>2</th>\n",
       "      <td>2</td>\n",
       "      <td>0.601</td>\n",
       "      <td>0.999996</td>\n",
       "      <td>35.0</td>\n",
       "      <td>238794.0</td>\n",
       "      <td>252000.0</td>\n",
       "      <td>3.0</td>\n",
       "      <td>0.947595</td>\n",
       "      <td>2520.0</td>\n",
       "    </tr>\n",
       "  </tbody>\n",
       "</table>\n",
       "</div>"
      ],
      "text/plain": [
       "   Unnamed: 0  Time_alg  Effectiveness  num_tasks  all_runtime      Time  \\\n",
       "0           0     0.000       0.975000        3.0       4000.0    4000.0   \n",
       "1           1     0.994       0.891383       12.0      27620.0   28000.0   \n",
       "2           2     0.601       0.999996       35.0     238794.0  252000.0   \n",
       "\n",
       "   num_part      load  num_of_intervals  \n",
       "0       3.0  1.000000              12.0  \n",
       "1       3.0  0.986429             280.0  \n",
       "2       3.0  0.947595            2520.0  "
      ]
     },
     "execution_count": 60,
     "metadata": {},
     "output_type": "execute_result"
    }
   ],
   "source": [
    "df_1 = pd.read_csv('./test4_one_1.2/result.tsv')\n",
    "df_1"
   ]
  },
  {
   "cell_type": "code",
   "execution_count": 61,
   "metadata": {
    "collapsed": false
   },
   "outputs": [
    {
     "data": {
      "text/html": [
       "<div>\n",
       "<table border=\"1\" class=\"dataframe\">\n",
       "  <thead>\n",
       "    <tr style=\"text-align: right;\">\n",
       "      <th></th>\n",
       "      <th>Unnamed: 0</th>\n",
       "      <th>Time_alg</th>\n",
       "      <th>Effectiveness</th>\n",
       "      <th>all_runtime</th>\n",
       "      <th>Time</th>\n",
       "      <th>num_part</th>\n",
       "      <th>load</th>\n",
       "      <th>num_of_intervals</th>\n",
       "    </tr>\n",
       "  </thead>\n",
       "  <tbody>\n",
       "    <tr>\n",
       "      <th>0</th>\n",
       "      <td>0</td>\n",
       "      <td>0.001</td>\n",
       "      <td>0.962518</td>\n",
       "      <td>6990.0</td>\n",
       "      <td>7000.0</td>\n",
       "      <td>3.0</td>\n",
       "      <td>0.998571</td>\n",
       "      <td>16.0</td>\n",
       "    </tr>\n",
       "    <tr>\n",
       "      <th>1</th>\n",
       "      <td>1</td>\n",
       "      <td>0.835</td>\n",
       "      <td>0.981514</td>\n",
       "      <td>41221.0</td>\n",
       "      <td>42000.0</td>\n",
       "      <td>3.0</td>\n",
       "      <td>0.981452</td>\n",
       "      <td>420.0</td>\n",
       "    </tr>\n",
       "    <tr>\n",
       "      <th>2</th>\n",
       "      <td>2</td>\n",
       "      <td>0.831</td>\n",
       "      <td>0.999992</td>\n",
       "      <td>241475.0</td>\n",
       "      <td>252000.0</td>\n",
       "      <td>3.0</td>\n",
       "      <td>0.958234</td>\n",
       "      <td>2520.0</td>\n",
       "    </tr>\n",
       "  </tbody>\n",
       "</table>\n",
       "</div>"
      ],
      "text/plain": [
       "   Unnamed: 0  Time_alg  Effectiveness  all_runtime      Time  num_part  \\\n",
       "0           0     0.001       0.962518       6990.0    7000.0       3.0   \n",
       "1           1     0.835       0.981514      41221.0   42000.0       3.0   \n",
       "2           2     0.831       0.999992     241475.0  252000.0       3.0   \n",
       "\n",
       "       load  num_of_intervals  \n",
       "0  0.998571              16.0  \n",
       "1  0.981452             420.0  \n",
       "2  0.958234            2520.0  "
      ]
     },
     "execution_count": 61,
     "metadata": {},
     "output_type": "execute_result"
    }
   ],
   "source": [
    "df_2 = pd.read_csv('./test3_one_1.4/result.tsv')\n",
    "df_2"
   ]
  },
  {
   "cell_type": "code",
   "execution_count": 62,
   "metadata": {
    "collapsed": false
   },
   "outputs": [
    {
     "data": {
      "text/html": [
       "<div>\n",
       "<table border=\"1\" class=\"dataframe\">\n",
       "  <thead>\n",
       "    <tr style=\"text-align: right;\">\n",
       "      <th></th>\n",
       "      <th>Unnamed: 0</th>\n",
       "      <th>Time_alg</th>\n",
       "      <th>Effectiveness</th>\n",
       "      <th>all_runtime</th>\n",
       "      <th>Time</th>\n",
       "      <th>num_part</th>\n",
       "      <th>load</th>\n",
       "      <th>num_of_intervals</th>\n",
       "    </tr>\n",
       "  </thead>\n",
       "  <tbody>\n",
       "    <tr>\n",
       "      <th>0</th>\n",
       "      <td>0</td>\n",
       "      <td>62.794</td>\n",
       "      <td>0.897165</td>\n",
       "      <td>23212.0</td>\n",
       "      <td>25200.0</td>\n",
       "      <td>3.0</td>\n",
       "      <td>0.921111</td>\n",
       "      <td>2520.0</td>\n",
       "    </tr>\n",
       "    <tr>\n",
       "      <th>1</th>\n",
       "      <td>1</td>\n",
       "      <td>129.574</td>\n",
       "      <td>0.841270</td>\n",
       "      <td>12600.0</td>\n",
       "      <td>12600.0</td>\n",
       "      <td>4.0</td>\n",
       "      <td>1.000000</td>\n",
       "      <td>1260.0</td>\n",
       "    </tr>\n",
       "    <tr>\n",
       "      <th>2</th>\n",
       "      <td>2</td>\n",
       "      <td>0.279</td>\n",
       "      <td>1.000000</td>\n",
       "      <td>17874.0</td>\n",
       "      <td>25200.0</td>\n",
       "      <td>3.0</td>\n",
       "      <td>0.709286</td>\n",
       "      <td>2520.0</td>\n",
       "    </tr>\n",
       "  </tbody>\n",
       "</table>\n",
       "</div>"
      ],
      "text/plain": [
       "   Unnamed: 0  Time_alg  Effectiveness  all_runtime     Time  num_part  \\\n",
       "0           0    62.794       0.897165      23212.0  25200.0       3.0   \n",
       "1           1   129.574       0.841270      12600.0  12600.0       4.0   \n",
       "2           2     0.279       1.000000      17874.0  25200.0       3.0   \n",
       "\n",
       "       load  num_of_intervals  \n",
       "0  0.921111            2520.0  \n",
       "1  1.000000            1260.0  \n",
       "2  0.709286            2520.0  "
      ]
     },
     "execution_count": 62,
     "metadata": {},
     "output_type": "execute_result"
    }
   ],
   "source": [
    "df_2 = pd.read_csv('./test2/result.tsv')\n",
    "df_2"
   ]
  },
  {
   "cell_type": "code",
   "execution_count": null,
   "metadata": {
    "collapsed": true
   },
   "outputs": [],
   "source": []
  },
  {
   "cell_type": "code",
   "execution_count": null,
   "metadata": {
    "collapsed": true
   },
   "outputs": [],
   "source": []
  },
  {
   "cell_type": "code",
   "execution_count": null,
   "metadata": {
    "collapsed": true
   },
   "outputs": [],
   "source": []
  },
  {
   "cell_type": "code",
   "execution_count": null,
   "metadata": {
    "collapsed": true
   },
   "outputs": [],
   "source": []
  },
  {
   "cell_type": "code",
   "execution_count": null,
   "metadata": {
    "collapsed": true
   },
   "outputs": [],
   "source": []
  },
  {
   "cell_type": "code",
   "execution_count": null,
   "metadata": {
    "collapsed": true
   },
   "outputs": [],
   "source": []
  },
  {
   "cell_type": "code",
   "execution_count": 69,
   "metadata": {
    "collapsed": true
   },
   "outputs": [],
   "source": [
    "def save(name='', fmt='png'):\n",
    "    pwd = os.getcwd()\n",
    "    iPath = './pictures/{}'.format(fmt)\n",
    "    if not os.path.exists(iPath):\n",
    "        os.mkdir(iPath)\n",
    "    os.chdir(iPath)\n",
    "    plt.savefig('{}.{}'.format(name, fmt), fmt='png')\n",
    "    os.chdir(pwd)\n",
    "    #plt.close()"
   ]
  },
  {
   "cell_type": "code",
   "execution_count": 68,
   "metadata": {
    "collapsed": false
   },
   "outputs": [
    {
     "data": {
      "text/plain": [
       "'H:\\\\GIT\\\\Diplom\\\\Gen_data'"
      ]
     },
     "execution_count": 68,
     "metadata": {},
     "output_type": "execute_result"
    }
   ],
   "source": [
    "os.getcwd()"
   ]
  },
  {
   "cell_type": "code",
   "execution_count": 79,
   "metadata": {
    "collapsed": false
   },
   "outputs": [
    {
     "data": {
      "text/plain": [
       "[<matplotlib.lines.Line2D at 0xa3a5860>]"
      ]
     },
     "execution_count": 79,
     "metadata": {},
     "output_type": "execute_result"
    },
    {
     "data": {
      "image/png": "[encoded data removed]",
      "text/plain": [
       "<matplotlib.figure.Figure at 0xab10ef0>"
      ]
     },
     "metadata": {},
     "output_type": "display_data"
    }
   ],
   "source": [
    "#fig = plt.figure()\n",
    "#plt.subplot()\n",
    "#plt.title('Загрузка 50%')   # заголовок\n",
    "#plt.xlabel('Число работ')   # подпись оси OX\n",
    "#plt.ylabel('Время')   # подпись оси OY\n",
    "#plt.legend()   # легенда\n",
    "#x = [10, 100, 500, 1000, 3000, 10000]\n",
    "#y = [1, 2, 3, 4, 5, 6]\n",
    "#plt.plot(x, y, 'r')\n",
    "#plt.subplot()\n",
    "#plt.title('Загрузка 60%')   # заголовок\n",
    "#plt.xlabel('Число работ')   # подпись оси OX\n",
    "#plt.ylabel('Время')   # подпись оси OY\n",
    "#plt.legend()   # легенда\n",
    "font = {'family': 'Droid Sans',\n",
    "        'weight': 'normal',\n",
    "        'size': 14}\n",
    "\n",
    "x = [10, 100, 500, 1000, 3000, 10000]\n",
    "y = [1, 2, 3, 4, 5, 6]\n",
    "#plt.plot(x, y, 'r')\n",
    "fig, axes = plt.subplots(3, 1)\n",
    "axes[0].set_title(u'Загрузка 50%')   # заголовок    \n",
    "axes[0].plot(x, y)\n",
    "axes[1].scatter(x, y)\n",
    "axes[2].plot(x,y)\n"
   ]
  }
 ],
 "metadata": {
  "anaconda-cloud": {},
  "kernelspec": {
   "display_name": "Python [default]",
   "language": "python",
   "name": "python3"
  },
  "language_info": {
   "codemirror_mode": {
    "name": "ipython",
    "version": 3
   },
   "file_extension": ".py",
   "mimetype": "text/x-python",
   "name": "python",
   "nbconvert_exporter": "python",
   "pygments_lexer": "ipython3",
   "version": "3.5.2"
  }
 },
 "nbformat": 4,
 "nbformat_minor": 1
}
