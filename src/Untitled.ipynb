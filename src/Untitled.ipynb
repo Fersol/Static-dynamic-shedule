{
 "cells": [
  {
   "cell_type": "code",
   "execution_count": 1,
   "metadata": {},
   "outputs": [],
   "source": [
    "import os\n",
    "import subprocess"
   ]
  },
  {
   "cell_type": "code",
   "execution_count": 6,
   "metadata": {},
   "outputs": [],
   "source": [
    "command = '\"./shedulerH 1 TestsHeterogenes/STEST/task Systems/system2 schedule\"'"
   ]
  },
  {
   "cell_type": "code",
   "execution_count": 8,
   "metadata": {},
   "outputs": [
    {
     "data": {
      "text/plain": [
       "1"
      ]
     },
     "execution_count": 8,
     "metadata": {},
     "output_type": "execute_result"
    }
   ],
   "source": [
    "os.system(command)"
   ]
  },
  {
   "cell_type": "code",
   "execution_count": 11,
   "metadata": {},
   "outputs": [],
   "source": [
    "os.environ[\"PATH\"] += ';C:\\\\MinGW\\\\bin'"
   ]
  },
  {
   "cell_type": "code",
   "execution_count": 12,
   "metadata": {},
   "outputs": [
    {
     "data": {
      "text/plain": [
       "'C:\\\\Users\\\\alsmi\\\\.conda\\\\envs\\\\py38;C:\\\\Users\\\\alsmi\\\\.conda\\\\envs\\\\py38\\\\Library\\\\mingw-w64\\\\bin;C:\\\\Users\\\\alsmi\\\\.conda\\\\envs\\\\py38\\\\Library\\\\usr\\\\bin;C:\\\\Users\\\\alsmi\\\\.conda\\\\envs\\\\py38\\\\Library\\\\bin;C:\\\\Users\\\\alsmi\\\\.conda\\\\envs\\\\py38\\\\Scripts;C:\\\\Users\\\\alsmi\\\\.conda\\\\envs\\\\py38\\\\bin;C:\\\\ProgramData\\\\Miniconda3\\\\condabin;C:\\\\ProgramData\\\\Miniconda3;C:\\\\ProgramData\\\\Miniconda3\\\\Library\\\\mingw-w64\\\\bin;C:\\\\ProgramData\\\\Miniconda3\\\\Library\\\\usr\\\\bin;C:\\\\ProgramData\\\\Miniconda3\\\\Library\\\\bin;C:\\\\ProgramData\\\\Miniconda3\\\\Scripts;C:\\\\Windows\\\\system32;C:\\\\Windows;C:\\\\Windows\\\\System32\\\\Wbem;C:\\\\Windows\\\\System32\\\\WindowsPowerShell\\\\v1.0;C:\\\\Windows\\\\System32\\\\OpenSSH;C:\\\\Program Files\\\\Microsoft VS Code\\\\bin;C:\\\\Program Files\\\\Git\\\\cmd;╤В╨е╨╕тХитЦТ:\\\\MinGW\\\\bin;C:\\\\Program Files (x86)\\\\NVIDIA Corporation\\\\PhysX\\\\Common;C:\\\\Program Files\\\\Docker\\\\Docker\\\\resources\\\\bin;C:\\\\ProgramData\\\\DockerDesktop\\\\version-bin;C:\\\\Users\\\\alsmi\\\\AppData\\\\Local\\\\Microsoft\\\\WindowsApps;C:\\\\Users\\\\alsmi\\\\Miniconda3;.;C:\\\\MinGW\\\\bin'"
      ]
     },
     "execution_count": 12,
     "metadata": {},
     "output_type": "execute_result"
    }
   ],
   "source": [
    "os.environ[\"PATH\"]"
   ]
  },
  {
   "cell_type": "code",
   "execution_count": 17,
   "metadata": {},
   "outputs": [
    {
     "data": {
      "text/plain": [
       "0"
      ]
     },
     "execution_count": 17,
     "metadata": {},
     "output_type": "execute_result"
    }
   ],
   "source": [
    "subprocess.call(['./shedulerH', '1', 'TestsHeterogenes/test.csv', 'Systems/system2' ,'schedule'])"
   ]
  },
  {
   "cell_type": "code",
   "execution_count": null,
   "metadata": {},
   "outputs": [],
   "source": []
  }
 ],
 "metadata": {
  "kernelspec": {
   "display_name": "Python 3",
   "language": "python",
   "name": "python3"
  },
  "language_info": {
   "codemirror_mode": {
    "name": "ipython",
    "version": 3
   },
   "file_extension": ".py",
   "mimetype": "text/x-python",
   "name": "python",
   "nbconvert_exporter": "python",
   "pygments_lexer": "ipython3",
   "version": "3.8.2"
  }
 },
 "nbformat": 4,
 "nbformat_minor": 4
}
